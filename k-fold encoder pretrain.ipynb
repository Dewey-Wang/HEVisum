{
 "cells": [
  {
   "cell_type": "markdown",
   "metadata": {},
   "source": [
    "# Import Model"
   ]
  },
  {
   "cell_type": "code",
   "execution_count": 36,
   "metadata": {},
   "outputs": [
    {
     "name": "stdout",
     "output_type": "stream",
     "text": [
      "Trainable / total params = 76,451 / 1,130,787\n"
     ]
    },
    {
     "name": "stderr",
     "output_type": "stream",
     "text": [
      "/Users/deweywang/Desktop/GitHub/HEVisum/python_scripts/pretrain_model.py:228: FutureWarning: You are using `torch.load` with `weights_only=False` (the current default value), which uses the default pickle module implicitly. It is possible to construct malicious pickle data which will execute arbitrary code during unpickling (See https://github.com/pytorch/pytorch/blob/main/SECURITY.md#untrusted-models for more details). In a future release, the default value for `weights_only` will be flipped to `True`. This limits the functions that could be executed during unpickling. Arbitrary objects will no longer be allowed to be loaded via this mode unless they are explicitly allowlisted by the user via `torch.serialization.add_safe_globals`. We recommend you start setting `weights_only=True` for any use case where you don't have full control of the loaded file. Please open an issue on GitHub for any issues related to this experimental feature.\n",
      "  ae.load_state_dict(torch.load(ae_checkpoint, map_location=\"cpu\"))\n"
     ]
    }
   ],
   "source": [
    "from python_scripts.pretrain_model import PretrainedEncoderRegressor\n",
    "import torch.nn as nn\n",
    "\n",
    "name = 'AE_Center_noaug'\n",
    "\n",
    "checkpoint_path = f\"AE_model/{name}/best.pt\"\n",
    "\n",
    "# 1) 实例化（会自动加载并冻结 encoder）\n",
    "model = PretrainedEncoderRegressor(\n",
    "    ae_checkpoint=checkpoint_path,\n",
    "    ae_type=\"center\",\n",
    "    center_dim=64, neighbor_dim=64, hidden_dim=128,\n",
    "    tile_size=26, output_dim=35,\n",
    "    freeze_encoder = True\n",
    ")\n",
    "\n",
    "# 2) monkey‐patch 一个新的 head\n",
    "model.decoder  = nn.Sequential(\n",
    "    nn.Linear(64+64, 256),\n",
    "    nn.SiLU(),\n",
    "    nn.Dropout(0.1),\n",
    "    nn.Linear(256, 128),\n",
    "    nn.SiLU(),\n",
    "    nn.Dropout(0.1),\n",
    "    nn.Linear(128, 64),\n",
    "    nn.SiLU(),\n",
    "    nn.Dropout(0.1),\n",
    "    nn.Linear(64, 35)\n",
    "    \n",
    ")\n",
    "\n",
    "# 3) 再次检查只训练 head\n",
    "# for name, p in model.named_parameters():\n",
    "#     print(name, p.requires_grad)\n",
    "\n",
    "\n",
    "\n",
    "# —— 5) 确保只有 decoder 可训练 ——  \n",
    "trainable = sum(p.numel() for p in model.parameters() if p.requires_grad)\n",
    "total     = sum(p.numel() for p in model.parameters())\n",
    "print(f\"Trainable / total params = {trainable:,} / {total:,}\")\n"
   ]
  },
  {
   "cell_type": "markdown",
   "metadata": {},
   "source": [
    "## Load Model"
   ]
  },
  {
   "cell_type": "markdown",
   "metadata": {},
   "source": [
    "# Import training data"
   ]
  },
  {
   "cell_type": "markdown",
   "metadata": {},
   "source": [
    "## Same in multiple .pt"
   ]
  },
  {
   "cell_type": "code",
   "execution_count": 37,
   "metadata": {},
   "outputs": [
    {
     "name": "stderr",
     "output_type": "stream",
     "text": [
      "/Users/deweywang/Desktop/GitHub/HEVisum/python_scripts/import_data.py:285: FutureWarning: You are using `torch.load` with `weights_only=False` (the current default value), which uses the default pickle module implicitly. It is possible to construct malicious pickle data which will execute arbitrary code during unpickling (See https://github.com/pytorch/pytorch/blob/main/SECURITY.md#untrusted-models for more details). In a future release, the default value for `weights_only` will be flipped to `True`. This limits the functions that could be executed during unpickling. Arbitrary objects will no longer be allowed to be loaded via this mode unless they are explicitly allowlisted by the user via `torch.serialization.add_safe_globals`. We recommend you start setting `weights_only=True` for any use case where you don't have full control of the loaded file. Please open an issue on GitHub for any issues related to this experimental feature.\n",
      "  d = torch.load(os.path.join(folder_path, fname), map_location='cpu')\n"
     ]
    },
    {
     "name": "stdout",
     "output_type": "stream",
     "text": [
      "Loaded keys: dict_keys(['tile', 'label', 'subtiles', 'source_idx', 'slide_idx'])\n",
      "Samples: 8348\n"
     ]
    }
   ],
   "source": [
    "import os\n",
    "import torch\n",
    "import random\n",
    "import inspect\n",
    "from python_scripts.import_data import load_all_tile_data\n",
    "\n",
    "# 用法範例\n",
    "#folder = \"dataset/spot-rank/version-3/only_tile_sub/original_train\"\n",
    "folder = \"dataset/spot-rank/filtered_directly_rank/masked/realign/Macenko_masked/filtered/train_data/\"\n",
    "\n",
    "grouped_data = load_all_tile_data( \n",
    "        folder_path=folder,\n",
    "        model=model,\n",
    "        fraction=1,\n",
    "        shuffle=False\n",
    "    )\n",
    "\n",
    "    # grouped_data 現在只會有 model.forward() 需要的 key，\n",
    "    # 像 ['tile','subtiles','neighbors','norm_coord','node_feat','adj_list','edge_feat','label','source_idx']\n",
    "print(\"Loaded keys:\", grouped_data.keys())\n",
    "print(\"Samples:\", len(next(iter(grouped_data.values()))))\n"
   ]
  },
  {
   "cell_type": "code",
   "execution_count": 38,
   "metadata": {},
   "outputs": [],
   "source": [
    "import os\n",
    "import torch\n",
    "import csv\n",
    "import matplotlib.pyplot as plt\n",
    "from IPython.display import clear_output, display\n",
    "from torch.optim.lr_scheduler import ReduceLROnPlateau\n",
    "from tqdm import tqdm\n",
    "from python_scripts.operate_model import train_one_epoch, evaluate, predict, plot_losses, plot_per_cell_metrics,spear_EarlyStopping\n",
    "import torch.nn as nn\n",
    "\n",
    "# ---------------------------\n",
    "# 指定儲存資料夾\n",
    "# ---------------------------\n",
    "save_folder = f\"/Users/deweywang/Desktop/GitHub/HEVisum/output_folder/rank-spot/realign/pretrain/{name}/filtered_directly_rank/k-fold/realign_all/Macenko_masked/\"  # 修改為你想要的資料夾名稱\n",
    "if not os.path.exists(save_folder):   \n",
    "    os.makedirs(save_folder)\n"
   ]
  },
  {
   "cell_type": "code",
   "execution_count": 40,
   "metadata": {},
   "outputs": [
    {
     "data": {
      "text/plain": [
       "array([0., 0., 0., ..., 0., 0., 0.])"
      ]
     },
     "execution_count": 40,
     "metadata": {},
     "output_type": "execute_result"
    }
   ],
   "source": [
    "# --------------------------------------------\n",
    "# 2) 從 grouped_data 取出 slide_idx，轉成 numpy\n",
    "# --------------------------------------------\n",
    "import numpy as np\n",
    "slide_idx = np.array(grouped_data['slide_idx'])   # shape (N,)\n",
    "\n",
    "# --------------------------------------------\n",
    "# 3) 建立 LOGO（或改成 GroupKFold）\n",
    "# --------------------------------------------\n",
    "from sklearn.model_selection import LeaveOneGroupOut\n",
    "logo = LeaveOneGroupOut()\n",
    "\n",
    "# X 可以給虛擬矩陣，因為分組只靠 groups\n",
    "X_dummy = np.zeros(len(slide_idx))\n",
    "X_dummy"
   ]
  },
  {
   "cell_type": "code",
   "execution_count": null,
   "metadata": {},
   "outputs": [
    {
     "name": "stderr",
     "output_type": "stream",
     "text": [
      "/opt/anaconda3/envs/spatialhackathon/lib/python3.9/site-packages/albumentations/__init__.py:24: UserWarning: A new version of Albumentations is available: 2.0.6 (you have 1.4.20). Upgrade using: pip install -U albumentations. To disable automatic update checks, set the environment variable NO_ALBUMENTATIONS_UPDATE to 1.\n",
      "  check_for_updates()\n"
     ]
    },
    {
     "name": "stdout",
     "output_type": "stream",
     "text": [
      "✅ device: mps\n",
      "Starting fold 0\n",
      "Starting subseting...\n",
      "Starting augmenting...\n",
      "Starting importDataset...\n",
      "Starting DataLoader...\n",
      "Starting model...\n"
     ]
    },
    {
     "name": "stderr",
     "output_type": "stream",
     "text": [
      "/Users/deweywang/Desktop/GitHub/HEVisum/python_scripts/pretrain_model.py:228: FutureWarning: You are using `torch.load` with `weights_only=False` (the current default value), which uses the default pickle module implicitly. It is possible to construct malicious pickle data which will execute arbitrary code during unpickling (See https://github.com/pytorch/pytorch/blob/main/SECURITY.md#untrusted-models for more details). In a future release, the default value for `weights_only` will be flipped to `True`. This limits the functions that could be executed during unpickling. Arbitrary objects will no longer be allowed to be loaded via this mode unless they are explicitly allowlisted by the user via `torch.serialization.add_safe_globals`. We recommend you start setting `weights_only=True` for any use case where you don't have full control of the loaded file. Please open an issue on GitHub for any issues related to this experimental feature.\n",
      "  ae.load_state_dict(torch.load(ae_checkpoint, map_location=\"cpu\"))\n"
     ]
    },
    {
     "data": {
      "image/png": "[encoded data removed]",
      "text/plain": [
       "<Figure size 1400x800 with 4 Axes>"
      ]
     },
     "metadata": {},
     "output_type": "display_data"
    },
    {
     "name": "stdout",
     "output_type": "stream",
     "text": [
      "Starting training...\n",
      "*** Unfreezing encoder at epoch 0 and adding to optimizer ***\n"
     ]
    },
    {
     "name": "stderr",
     "output_type": "stream",
     "text": [
      "Training:  12%|█▏        | 72/577 [00:13<00:55,  9.16it/s, avg=221, loss=106] "
     ]
    }
   ],
   "source": [
    "from torch.utils.data import DataLoader\n",
    "from python_scripts.import_data import importDataset\n",
    "from python_scripts.aug         import augment_grouped_data, identity, subset_grouped_data\n",
    "import math\n",
    "from torch.optim.lr_scheduler import LambdaLR\n",
    "# ---------------- 基本參數 ----------------\n",
    "start_fold = 0   # 从第几个 fold 开始训练（0-based），小于此值的 fold 会跳过\n",
    "\n",
    "BATCH_SIZE   = 64\n",
    "num_epochs   = 150\n",
    "repeats      = 5\n",
    "# ---------------- 參數設定 ----------------\n",
    "save_root    = save_folder          # 最外層\n",
    "os.makedirs(save_root, exist_ok=True)\n",
    "\n",
    "# Seed once at the very top for reproducibility\n",
    "\n",
    "logo     = LeaveOneGroupOut()\n",
    "device   = torch.device(\"mps\" if torch.backends.mps.is_available() else \"cpu\")\n",
    "print(\"✅ device:\", device)\n",
    "\n",
    "overall_best = []\n",
    "# 在你的脚本文件头部\n",
    "\n",
    "\n",
    "\n",
    "# ➋ LOGO / GroupKFold 切分索引，對 Dataset 建 Subset\n",
    "for fold_id, (tr_idx, va_idx) in enumerate(\n",
    "        logo.split(X=np.zeros(len(slide_idx)), y=None, groups=slide_idx)):\n",
    "    \n",
    "        # 如果当前 fold < start_fold，就跳过\n",
    "    if fold_id < start_fold:\n",
    "        print(f\"⏭️ Skipping fold {fold_id}\")\n",
    "        continue\n",
    "    \n",
    "    print(\"Starting fold\", fold_id)\n",
    "    print(\"Starting subseting...\")\n",
    "\n",
    "    train_base = subset_grouped_data(grouped_data, tr_idx)\n",
    "    print(\"Starting augmenting...\")\n",
    "\n",
    "    train_ds = augment_grouped_data(\n",
    "                    grouped_data=train_base,\n",
    "                    image_keys=['tile','subtiles'],\n",
    "                    repeats=repeats   # 比如对每张做 2 次增强\n",
    "                )\n",
    "    print(\"Starting importDataset...\")\n",
    "    # 1) 原始 dataset\n",
    "    train_ds = importDataset(train_ds, model,\n",
    "                            image_keys=['tile','subtiles'],\n",
    "                            transform=identity)\n",
    "\n",
    "\n",
    "    # 3) validation raw\n",
    "    val_ds     = subset_grouped_data(grouped_data, va_idx)\n",
    "    val_ds     = importDataset(val_ds, model,\n",
    "                            image_keys=['tile','subtiles'],\n",
    "                            transform=identity)\n",
    "\n",
    "    print(\"Starting DataLoader...\")\n",
    "    # 4) DataLoader 不再動態增強\n",
    "    train_loader = DataLoader(train_ds, batch_size=BATCH_SIZE,\n",
    "                              shuffle=True, num_workers=0, pin_memory=False)\n",
    "    val_loader   = DataLoader(val_ds,   batch_size=BATCH_SIZE,\n",
    "                              shuffle=False, num_workers=0, pin_memory=False)\n",
    "\n",
    "    # 5) 一切其餘步驟同之前：定模型、optimizer、train_one_epoch、evaluate……\n",
    "\n",
    "    print(\"Starting model...\")\n",
    "    # ----- 新建模型 / 優化器 -----\n",
    "    net = PretrainedEncoderRegressor(\n",
    "        ae_checkpoint=checkpoint_path,\n",
    "        ae_type=\"center\",\n",
    "        center_dim=64, neighbor_dim=64, hidden_dim=128,\n",
    "        tile_size=26, output_dim=35,\n",
    "        freeze_encoder = True\n",
    "    )\n",
    "\n",
    "    # 2) monkey‐patch 一个新的 head\n",
    "    net.decoder  = nn.Sequential(\n",
    "        nn.Linear(64+64, 256),\n",
    "        nn.SiLU(),\n",
    "        nn.Dropout(0.1),\n",
    "        nn.Linear(256, 128),\n",
    "        nn.SiLU(),\n",
    "        nn.Dropout(0.1),\n",
    "        nn.Linear(128, 64),\n",
    "        nn.SiLU(),\n",
    "        nn.Dropout(0.1),\n",
    "        nn.Linear(64, 35)\n",
    "        \n",
    "    )\n",
    "    net = net.to(device)\n",
    "\n",
    "    # 我们把原来 Adam 换成 AdamW，稍微加一点 weight decay\n",
    "    peak_lr       = 5e-4\n",
    "    min_lr        = 1e-6\n",
    "    warmup_epochs = 0\n",
    "    total_epochs  = 30\n",
    "\n",
    "    unfreeze_epoch = 0  # 比如在第 50 个 epoch 解冻 encoder\n",
    "    encoder_lr     = 1e-5\n",
    "\n",
    "    optimizer = torch.optim.AdamW(\n",
    "        filter(lambda p: p.requires_grad, net.parameters()),\n",
    "        lr=peak_lr, weight_decay=1e-3\n",
    "    )\n",
    "\n",
    "    # 定义 lr_lambda\n",
    "    def lr_lambda(cur_epoch):\n",
    "        if cur_epoch < warmup_epochs:\n",
    "            # 线性 warm-up: 从 0 → 1\n",
    "            return float(cur_epoch + 1) / warmup_epochs\n",
    "        else:\n",
    "            # 余弦退火：从 1 → min_lr/peak_lr\n",
    "            progress = (cur_epoch - warmup_epochs) / (total_epochs - warmup_epochs)\n",
    "            # cos(0)=1 → cos(pi)=−1, remap to [min_ratio,1]\n",
    "            min_ratio = min_lr / peak_lr\n",
    "            return min_ratio + 0.5 * (1 - min_ratio) * (1 + math.cos(math.pi * progress))\n",
    "\n",
    "    scheduler = LambdaLR(optimizer, lr_lambda)\n",
    "\n",
    "    stopper = spear_EarlyStopping(patience=15)\n",
    "\n",
    "    # ----- fold 專屬輸出路徑 -----\n",
    "    fold_dir  = os.path.join(save_folder, f\"fold{fold_id}\")\n",
    "    os.makedirs(fold_dir, exist_ok=True)\n",
    "    best_model_path = os.path.join(fold_dir, \"best_model.pt\")\n",
    "    loss_plot_path  = os.path.join(fold_dir, \"loss_curve.png\")\n",
    "    csv_path        = os.path.join(fold_dir, \"training_log.csv\")\n",
    "\n",
    "    # ----- CSV log -----\n",
    "    log_f = open(csv_path, \"w\", newline=\"\")\n",
    "    csv_w = csv.writer(log_f)\n",
    "    csv_w.writerow([\"Epoch\",\"TrainLoss\",\"ValLoss\",\"ValSpearman\",\"LR\"])\n",
    "\n",
    "    # ----- 圖形 -----\n",
    "    fig, axes = plt.subplots(2, 2, figsize=(14, 8))\n",
    "    display(fig)\n",
    "\n",
    "    train_losses = []; val_losses = []\n",
    "    train_rhos   = []; val_rhos   = []\n",
    "\n",
    "    best_rho = -1.0\n",
    "    print(\"Starting training...\")\n",
    "    for epoch in range(num_epochs):\n",
    "        if epoch == unfreeze_epoch:\n",
    "            print(f\"*** Unfreezing encoder at epoch {epoch} and adding to optimizer ***\")\n",
    "        # 把 encoder 的参数解冻并加入 optimizer\n",
    "            net.unfreeze_encoder(lr=encoder_lr, optimizer=optimizer)\n",
    "\n",
    "        tloss, trho = train_one_epoch(\n",
    "            net, train_loader, optimizer, device,\n",
    "            current_epoch=epoch, initial_alpha=0, final_alpha=0, target_epoch=20 )\n",
    "\n",
    "        vloss, vrho, mse_cell, rho_cell = evaluate(\n",
    "            net, val_loader, device,\n",
    "            current_epoch=epoch, initial_alpha=0, final_alpha=0, target_epoch=20 )\n",
    "\n",
    "        clear_output(wait=True)  # 清除之前的輸出\n",
    "        axes[0][0].clear()\n",
    "        axes[0][1].clear()\n",
    "        axes[1][0].clear()\n",
    "        axes[1][1].clear()\n",
    "        # --- save best ---\n",
    "        if vrho > best_rho:\n",
    "            best_rho = vrho\n",
    "            torch.save(net.state_dict(), best_model_path)\n",
    "            print(f\"✅ Saved best model in {best_model_path}!\")\n",
    "\n",
    "        # --- scheduler / early stop ---\n",
    "        scheduler.step()\n",
    "        stopper(vrho)\n",
    "\n",
    "\n",
    "    \n",
    "        # --- logging ---\n",
    "        lr = optimizer.param_groups[0]['lr']\n",
    "        csv_w.writerow([epoch+1, tloss, vloss, vrho, lr])\n",
    "\n",
    "        train_losses.append(tloss); val_losses.append(vloss)\n",
    "        train_rhos.append(trho);   val_rhos.append(vrho)\n",
    "        \n",
    "\n",
    "        \n",
    "\n",
    "        # 印出 Epoch 結果\n",
    "        lr = optimizer.param_groups[0]['lr']\n",
    "        print(f\"[Epoch {epoch+1}]  lr={lr:.2e}, train_loss={tloss:.4f}, val_loss={vloss:.4f}\")\n",
    "        print(f\"train spearman: {trho:.4f} | Val spearman: {vrho:.4f} | best: {best_rho:.4f}\")\n",
    "        # --- update plots ---\n",
    "        plot_losses(train_losses, val_losses, axes[0][0], \"MSE Loss\")\n",
    "        plot_losses(train_rhos,   val_rhos,   axes[0][1], \"Spearman\")\n",
    "        cell_names = [f\"C{i+1}\" for i in range(35)]\n",
    "        plot_per_cell_metrics(mse_cell, rho_cell, cell_names,\n",
    "                              ax_mse=axes[1][0], ax_spearman=axes[1][1])\n",
    "        plt.tight_layout(); display(fig); plt.pause(0.1)\n",
    "        fig.savefig(loss_plot_path)\n",
    "        print(f\"曲線圖已儲存至 {loss_plot_path}\")\n",
    "        if stopper.early_stop:\n",
    "            print(\"⛔ early stop\"); break\n",
    "\n",
    "    log_f.close(); plt.close(fig)\n",
    "    overall_best.append(best_rho) \n",
    "    print(f\"📈 Fold {fold_id} best ρ = {best_rho:.4f}\")\n",
    "\n",
    "# ========= 整體結果 =========\n",
    "overall_best = np.array(overall_best)\n",
    "print(\"\\n=========== CV summary ===========\")\n",
    "for i, r in enumerate(overall_best):\n",
    "    print(f\"fold {i}: best ρ = {r:.4f}\")\n",
    "print(f\"overall best (mean) ρ = {overall_best.mean():.4f} ± {overall_best.std():.4f}\")"
   ]
  },
  {
   "cell_type": "code",
   "execution_count": null,
   "metadata": {},
   "outputs": [],
   "source": [
    "full_dataset = importDataset(grouped_data, model,\n",
    "                             image_keys=['tile','subtiles'],\n",
    "                             transform=lambda x: x)"
   ]
  },
  {
   "cell_type": "code",
   "execution_count": 35,
   "metadata": {},
   "outputs": [
    {
     "name": "stdout",
     "output_type": "stream",
     "text": [
      "Loading model from /Users/deweywang/Desktop/GitHub/HEVisum/output_folder/rank-spot/realign/pretrain/AE_Center_noaug/filtered_directly_rank/k-fold/realign_all/original_image/fold0/best_model.pt...\n"
     ]
    },
    {
     "name": "stderr",
     "output_type": "stream",
     "text": [
      "/Users/deweywang/Desktop/GitHub/HEVisum/python_scripts/pretrain_model.py:228: FutureWarning: You are using `torch.load` with `weights_only=False` (the current default value), which uses the default pickle module implicitly. It is possible to construct malicious pickle data which will execute arbitrary code during unpickling (See https://github.com/pytorch/pytorch/blob/main/SECURITY.md#untrusted-models for more details). In a future release, the default value for `weights_only` will be flipped to `True`. This limits the functions that could be executed during unpickling. Arbitrary objects will no longer be allowed to be loaded via this mode unless they are explicitly allowlisted by the user via `torch.serialization.add_safe_globals`. We recommend you start setting `weights_only=True` for any use case where you don't have full control of the loaded file. Please open an issue on GitHub for any issues related to this experimental feature.\n",
      "  ae.load_state_dict(torch.load(ae_checkpoint, map_location=\"cpu\"))\n",
      "/var/folders/7g/j5s0yzcj34l3v043s7znkplc0000gn/T/ipykernel_9016/1117153455.py:72: FutureWarning: You are using `torch.load` with `weights_only=False` (the current default value), which uses the default pickle module implicitly. It is possible to construct malicious pickle data which will execute arbitrary code during unpickling (See https://github.com/pytorch/pytorch/blob/main/SECURITY.md#untrusted-models for more details). In a future release, the default value for `weights_only` will be flipped to `True`. This limits the functions that could be executed during unpickling. Arbitrary objects will no longer be allowed to be loaded via this mode unless they are explicitly allowlisted by the user via `torch.serialization.add_safe_globals`. We recommend you start setting `weights_only=True` for any use case where you don't have full control of the loaded file. Please open an issue on GitHub for any issues related to this experimental feature.\n",
      "  net.load_state_dict(torch.load(ckpt_path, map_location=device))\n"
     ]
    },
    {
     "name": "stdout",
     "output_type": "stream",
     "text": [
      "Fold 0: OOF preds shape (2197, 35)\n",
      "Loading model from /Users/deweywang/Desktop/GitHub/HEVisum/output_folder/rank-spot/realign/pretrain/AE_Center_noaug/filtered_directly_rank/k-fold/realign_all/original_image/fold1/best_model.pt...\n",
      "Fold 1: OOF preds shape (2269, 35)\n",
      "Loading model from /Users/deweywang/Desktop/GitHub/HEVisum/output_folder/rank-spot/realign/pretrain/AE_Center_noaug/filtered_directly_rank/k-fold/realign_all/original_image/fold2/best_model.pt...\n",
      "Fold 2: OOF preds shape (690, 35)\n",
      "Loading model from /Users/deweywang/Desktop/GitHub/HEVisum/output_folder/rank-spot/realign/pretrain/AE_Center_noaug/filtered_directly_rank/k-fold/realign_all/original_image/fold3/best_model.pt...\n",
      "Fold 3: OOF preds shape (1187, 35)\n",
      "Loading model from /Users/deweywang/Desktop/GitHub/HEVisum/output_folder/rank-spot/realign/pretrain/AE_Center_noaug/filtered_directly_rank/k-fold/realign_all/original_image/fold4/best_model.pt...\n",
      "Fold 4: OOF preds shape (1677, 35)\n",
      "Loading model from /Users/deweywang/Desktop/GitHub/HEVisum/output_folder/rank-spot/realign/pretrain/AE_Center_noaug/filtered_directly_rank/k-fold/realign_all/original_image/fold5/best_model.pt...\n",
      "Fold 5: OOF preds shape (328, 35)\n",
      "Meta feature shape: (6678, 35)\n",
      "Feature std (min/max): 1.309504 8.708129\n",
      "Training LightGBM on OOF meta-features with early stopping...\n",
      "Training target 0...\n",
      "Training until validation scores don't improve for 100 rounds\n"
     ]
    },
    {
     "name": "stderr",
     "output_type": "stream",
     "text": [
      "/opt/anaconda3/envs/spatialhackathon/lib/python3.9/site-packages/lightgbm/basic.py:743: UserWarning: Usage of np.ndarray subset (sliced data) is not recommended due to it will double the peak memory cost in LightGBM.\n",
      "  _log_warning(\n"
     ]
    },
    {
     "name": "stdout",
     "output_type": "stream",
     "text": [
      "[100]\tvalid_0's rmse: 5.47029\n",
      "[200]\tvalid_0's rmse: 5.32908\n",
      "[300]\tvalid_0's rmse: 5.31855\n",
      "[400]\tvalid_0's rmse: 5.31383\n",
      "[500]\tvalid_0's rmse: 5.31135\n",
      "Early stopping, best iteration is:\n",
      "[483]\tvalid_0's rmse: 5.30736\n",
      "Training target 1...\n",
      "Training until validation scores don't improve for 100 rounds\n"
     ]
    },
    {
     "name": "stderr",
     "output_type": "stream",
     "text": [
      "/opt/anaconda3/envs/spatialhackathon/lib/python3.9/site-packages/lightgbm/basic.py:743: UserWarning: Usage of np.ndarray subset (sliced data) is not recommended due to it will double the peak memory cost in LightGBM.\n",
      "  _log_warning(\n"
     ]
    },
    {
     "name": "stdout",
     "output_type": "stream",
     "text": [
      "[100]\tvalid_0's rmse: 2.66173\n",
      "[200]\tvalid_0's rmse: 2.61135\n",
      "[300]\tvalid_0's rmse: 2.60291\n",
      "[400]\tvalid_0's rmse: 2.59721\n",
      "[500]\tvalid_0's rmse: 2.5952\n",
      "[600]\tvalid_0's rmse: 2.59277\n",
      "Early stopping, best iteration is:\n",
      "[532]\tvalid_0's rmse: 2.5924\n",
      "Training target 2...\n",
      "Training until validation scores don't improve for 100 rounds\n"
     ]
    },
    {
     "name": "stderr",
     "output_type": "stream",
     "text": [
      "/opt/anaconda3/envs/spatialhackathon/lib/python3.9/site-packages/lightgbm/basic.py:743: UserWarning: Usage of np.ndarray subset (sliced data) is not recommended due to it will double the peak memory cost in LightGBM.\n",
      "  _log_warning(\n"
     ]
    },
    {
     "name": "stdout",
     "output_type": "stream",
     "text": [
      "[100]\tvalid_0's rmse: 3.74502\n",
      "[200]\tvalid_0's rmse: 3.62813\n",
      "[300]\tvalid_0's rmse: 3.60572\n",
      "[400]\tvalid_0's rmse: 3.60183\n",
      "[500]\tvalid_0's rmse: 3.59874\n",
      "Early stopping, best iteration is:\n",
      "[473]\tvalid_0's rmse: 3.59646\n",
      "Training target 3...\n",
      "Training until validation scores don't improve for 100 rounds\n"
     ]
    },
    {
     "name": "stderr",
     "output_type": "stream",
     "text": [
      "/opt/anaconda3/envs/spatialhackathon/lib/python3.9/site-packages/lightgbm/basic.py:743: UserWarning: Usage of np.ndarray subset (sliced data) is not recommended due to it will double the peak memory cost in LightGBM.\n",
      "  _log_warning(\n"
     ]
    },
    {
     "name": "stdout",
     "output_type": "stream",
     "text": [
      "[100]\tvalid_0's rmse: 7.58123\n",
      "[200]\tvalid_0's rmse: 7.28106\n",
      "[300]\tvalid_0's rmse: 7.21505\n",
      "[400]\tvalid_0's rmse: 7.19595\n",
      "[500]\tvalid_0's rmse: 7.18169\n",
      "[600]\tvalid_0's rmse: 7.17412\n",
      "[700]\tvalid_0's rmse: 7.16727\n",
      "[800]\tvalid_0's rmse: 7.16538\n",
      "Early stopping, best iteration is:\n",
      "[784]\tvalid_0's rmse: 7.16109\n",
      "Training target 4...\n",
      "Training until validation scores don't improve for 100 rounds\n"
     ]
    },
    {
     "name": "stderr",
     "output_type": "stream",
     "text": [
      "/opt/anaconda3/envs/spatialhackathon/lib/python3.9/site-packages/lightgbm/basic.py:743: UserWarning: Usage of np.ndarray subset (sliced data) is not recommended due to it will double the peak memory cost in LightGBM.\n",
      "  _log_warning(\n"
     ]
    },
    {
     "name": "stdout",
     "output_type": "stream",
     "text": [
      "[100]\tvalid_0's rmse: 7.15958\n",
      "[200]\tvalid_0's rmse: 6.9889\n",
      "[300]\tvalid_0's rmse: 6.97651\n",
      "[400]\tvalid_0's rmse: 6.9731\n",
      "Early stopping, best iteration is:\n",
      "[374]\tvalid_0's rmse: 6.963\n",
      "Training target 5...\n",
      "Training until validation scores don't improve for 100 rounds\n"
     ]
    },
    {
     "name": "stderr",
     "output_type": "stream",
     "text": [
      "/opt/anaconda3/envs/spatialhackathon/lib/python3.9/site-packages/lightgbm/basic.py:743: UserWarning: Usage of np.ndarray subset (sliced data) is not recommended due to it will double the peak memory cost in LightGBM.\n",
      "  _log_warning(\n"
     ]
    },
    {
     "name": "stdout",
     "output_type": "stream",
     "text": [
      "[100]\tvalid_0's rmse: 8.24307\n",
      "[200]\tvalid_0's rmse: 8.07254\n",
      "[300]\tvalid_0's rmse: 8.04747\n",
      "[400]\tvalid_0's rmse: 8.0384\n",
      "Early stopping, best iteration is:\n",
      "[353]\tvalid_0's rmse: 8.03076\n",
      "Training target 6...\n",
      "Training until validation scores don't improve for 100 rounds\n"
     ]
    },
    {
     "name": "stderr",
     "output_type": "stream",
     "text": [
      "/opt/anaconda3/envs/spatialhackathon/lib/python3.9/site-packages/lightgbm/basic.py:743: UserWarning: Usage of np.ndarray subset (sliced data) is not recommended due to it will double the peak memory cost in LightGBM.\n",
      "  _log_warning(\n"
     ]
    },
    {
     "name": "stdout",
     "output_type": "stream",
     "text": [
      "[100]\tvalid_0's rmse: 3.8176\n",
      "[200]\tvalid_0's rmse: 3.7714\n",
      "[300]\tvalid_0's rmse: 3.7622\n",
      "[400]\tvalid_0's rmse: 3.75354\n",
      "[500]\tvalid_0's rmse: 3.75724\n",
      "Early stopping, best iteration is:\n",
      "[432]\tvalid_0's rmse: 3.75332\n",
      "Training target 7...\n",
      "Training until validation scores don't improve for 100 rounds\n"
     ]
    },
    {
     "name": "stderr",
     "output_type": "stream",
     "text": [
      "/opt/anaconda3/envs/spatialhackathon/lib/python3.9/site-packages/lightgbm/basic.py:743: UserWarning: Usage of np.ndarray subset (sliced data) is not recommended due to it will double the peak memory cost in LightGBM.\n",
      "  _log_warning(\n"
     ]
    },
    {
     "name": "stdout",
     "output_type": "stream",
     "text": [
      "[100]\tvalid_0's rmse: 5.55319\n",
      "[200]\tvalid_0's rmse: 5.55866\n",
      "Early stopping, best iteration is:\n",
      "[149]\tvalid_0's rmse: 5.54754\n",
      "Training target 8...\n",
      "Training until validation scores don't improve for 100 rounds\n"
     ]
    },
    {
     "name": "stderr",
     "output_type": "stream",
     "text": [
      "/opt/anaconda3/envs/spatialhackathon/lib/python3.9/site-packages/lightgbm/basic.py:743: UserWarning: Usage of np.ndarray subset (sliced data) is not recommended due to it will double the peak memory cost in LightGBM.\n",
      "  _log_warning(\n"
     ]
    },
    {
     "name": "stdout",
     "output_type": "stream",
     "text": [
      "[100]\tvalid_0's rmse: 8.75568\n",
      "[200]\tvalid_0's rmse: 8.48067\n",
      "[300]\tvalid_0's rmse: 8.41817\n",
      "[400]\tvalid_0's rmse: 8.38604\n",
      "[500]\tvalid_0's rmse: 8.36558\n",
      "[600]\tvalid_0's rmse: 8.34994\n",
      "[700]\tvalid_0's rmse: 8.33538\n",
      "[800]\tvalid_0's rmse: 8.33859\n",
      "Early stopping, best iteration is:\n",
      "[753]\tvalid_0's rmse: 8.33068\n",
      "Training target 9...\n",
      "Training until validation scores don't improve for 100 rounds\n"
     ]
    },
    {
     "name": "stderr",
     "output_type": "stream",
     "text": [
      "/opt/anaconda3/envs/spatialhackathon/lib/python3.9/site-packages/lightgbm/basic.py:743: UserWarning: Usage of np.ndarray subset (sliced data) is not recommended due to it will double the peak memory cost in LightGBM.\n",
      "  _log_warning(\n"
     ]
    },
    {
     "name": "stdout",
     "output_type": "stream",
     "text": [
      "[100]\tvalid_0's rmse: 6.96195\n",
      "[200]\tvalid_0's rmse: 6.8303\n",
      "[300]\tvalid_0's rmse: 6.81286\n",
      "[400]\tvalid_0's rmse: 6.80742\n",
      "[500]\tvalid_0's rmse: 6.79882\n",
      "[600]\tvalid_0's rmse: 6.78813\n",
      "[700]\tvalid_0's rmse: 6.78978\n",
      "Early stopping, best iteration is:\n",
      "[607]\tvalid_0's rmse: 6.78653\n",
      "Training target 10...\n",
      "Training until validation scores don't improve for 100 rounds\n"
     ]
    },
    {
     "name": "stderr",
     "output_type": "stream",
     "text": [
      "/opt/anaconda3/envs/spatialhackathon/lib/python3.9/site-packages/lightgbm/basic.py:743: UserWarning: Usage of np.ndarray subset (sliced data) is not recommended due to it will double the peak memory cost in LightGBM.\n",
      "  _log_warning(\n"
     ]
    },
    {
     "name": "stdout",
     "output_type": "stream",
     "text": [
      "[100]\tvalid_0's rmse: 7.28081\n",
      "[200]\tvalid_0's rmse: 7.16607\n",
      "[300]\tvalid_0's rmse: 7.16418\n",
      "Early stopping, best iteration is:\n",
      "[249]\tvalid_0's rmse: 7.15558\n",
      "Training target 11...\n",
      "Training until validation scores don't improve for 100 rounds\n"
     ]
    },
    {
     "name": "stderr",
     "output_type": "stream",
     "text": [
      "/opt/anaconda3/envs/spatialhackathon/lib/python3.9/site-packages/lightgbm/basic.py:743: UserWarning: Usage of np.ndarray subset (sliced data) is not recommended due to it will double the peak memory cost in LightGBM.\n",
      "  _log_warning(\n"
     ]
    },
    {
     "name": "stdout",
     "output_type": "stream",
     "text": [
      "[100]\tvalid_0's rmse: 4.05218\n",
      "[200]\tvalid_0's rmse: 3.93869\n",
      "[300]\tvalid_0's rmse: 3.91978\n",
      "[400]\tvalid_0's rmse: 3.91772\n",
      "[500]\tvalid_0's rmse: 3.91529\n",
      "Early stopping, best iteration is:\n",
      "[427]\tvalid_0's rmse: 3.9129\n",
      "Training target 12...\n",
      "Training until validation scores don't improve for 100 rounds\n"
     ]
    },
    {
     "name": "stderr",
     "output_type": "stream",
     "text": [
      "/opt/anaconda3/envs/spatialhackathon/lib/python3.9/site-packages/lightgbm/basic.py:743: UserWarning: Usage of np.ndarray subset (sliced data) is not recommended due to it will double the peak memory cost in LightGBM.\n",
      "  _log_warning(\n"
     ]
    },
    {
     "name": "stdout",
     "output_type": "stream",
     "text": [
      "[100]\tvalid_0's rmse: 6.15755\n",
      "Early stopping, best iteration is:\n",
      "[89]\tvalid_0's rmse: 6.15604\n",
      "Training target 13...\n",
      "Training until validation scores don't improve for 100 rounds\n"
     ]
    },
    {
     "name": "stderr",
     "output_type": "stream",
     "text": [
      "/opt/anaconda3/envs/spatialhackathon/lib/python3.9/site-packages/lightgbm/basic.py:743: UserWarning: Usage of np.ndarray subset (sliced data) is not recommended due to it will double the peak memory cost in LightGBM.\n",
      "  _log_warning(\n"
     ]
    },
    {
     "name": "stdout",
     "output_type": "stream",
     "text": [
      "[100]\tvalid_0's rmse: 5.24359\n",
      "[200]\tvalid_0's rmse: 5.21742\n",
      "[300]\tvalid_0's rmse: 5.22388\n",
      "Early stopping, best iteration is:\n",
      "[229]\tvalid_0's rmse: 5.21436\n",
      "Training target 14...\n",
      "Training until validation scores don't improve for 100 rounds\n"
     ]
    },
    {
     "name": "stderr",
     "output_type": "stream",
     "text": [
      "/opt/anaconda3/envs/spatialhackathon/lib/python3.9/site-packages/lightgbm/basic.py:743: UserWarning: Usage of np.ndarray subset (sliced data) is not recommended due to it will double the peak memory cost in LightGBM.\n",
      "  _log_warning(\n"
     ]
    },
    {
     "name": "stdout",
     "output_type": "stream",
     "text": [
      "[100]\tvalid_0's rmse: 5.98774\n",
      "[200]\tvalid_0's rmse: 5.81374\n",
      "[300]\tvalid_0's rmse: 5.78525\n",
      "[400]\tvalid_0's rmse: 5.7736\n",
      "[500]\tvalid_0's rmse: 5.78015\n",
      "Early stopping, best iteration is:\n",
      "[412]\tvalid_0's rmse: 5.77214\n",
      "Training target 15...\n",
      "Training until validation scores don't improve for 100 rounds\n"
     ]
    },
    {
     "name": "stderr",
     "output_type": "stream",
     "text": [
      "/opt/anaconda3/envs/spatialhackathon/lib/python3.9/site-packages/lightgbm/basic.py:743: UserWarning: Usage of np.ndarray subset (sliced data) is not recommended due to it will double the peak memory cost in LightGBM.\n",
      "  _log_warning(\n"
     ]
    },
    {
     "name": "stdout",
     "output_type": "stream",
     "text": [
      "[100]\tvalid_0's rmse: 6.08664\n",
      "[200]\tvalid_0's rmse: 5.99144\n",
      "[300]\tvalid_0's rmse: 5.98546\n",
      "Early stopping, best iteration is:\n",
      "[265]\tvalid_0's rmse: 5.97808\n",
      "Training target 16...\n",
      "Training until validation scores don't improve for 100 rounds\n"
     ]
    },
    {
     "name": "stderr",
     "output_type": "stream",
     "text": [
      "/opt/anaconda3/envs/spatialhackathon/lib/python3.9/site-packages/lightgbm/basic.py:743: UserWarning: Usage of np.ndarray subset (sliced data) is not recommended due to it will double the peak memory cost in LightGBM.\n",
      "  _log_warning(\n"
     ]
    },
    {
     "name": "stdout",
     "output_type": "stream",
     "text": [
      "[100]\tvalid_0's rmse: 7.12795\n",
      "[200]\tvalid_0's rmse: 6.94002\n",
      "[300]\tvalid_0's rmse: 6.90504\n",
      "[400]\tvalid_0's rmse: 6.89366\n",
      "[500]\tvalid_0's rmse: 6.88885\n",
      "[600]\tvalid_0's rmse: 6.88114\n",
      "Early stopping, best iteration is:\n",
      "[597]\tvalid_0's rmse: 6.88046\n",
      "Training target 17...\n",
      "Training until validation scores don't improve for 100 rounds\n"
     ]
    },
    {
     "name": "stderr",
     "output_type": "stream",
     "text": [
      "/opt/anaconda3/envs/spatialhackathon/lib/python3.9/site-packages/lightgbm/basic.py:743: UserWarning: Usage of np.ndarray subset (sliced data) is not recommended due to it will double the peak memory cost in LightGBM.\n",
      "  _log_warning(\n"
     ]
    },
    {
     "name": "stdout",
     "output_type": "stream",
     "text": [
      "[100]\tvalid_0's rmse: 3.54541\n",
      "[200]\tvalid_0's rmse: 3.44198\n",
      "[300]\tvalid_0's rmse: 3.43035\n",
      "[400]\tvalid_0's rmse: 3.43131\n",
      "Early stopping, best iteration is:\n",
      "[359]\tvalid_0's rmse: 3.42851\n",
      "Training target 18...\n",
      "Training until validation scores don't improve for 100 rounds\n"
     ]
    },
    {
     "name": "stderr",
     "output_type": "stream",
     "text": [
      "/opt/anaconda3/envs/spatialhackathon/lib/python3.9/site-packages/lightgbm/basic.py:743: UserWarning: Usage of np.ndarray subset (sliced data) is not recommended due to it will double the peak memory cost in LightGBM.\n",
      "  _log_warning(\n"
     ]
    },
    {
     "name": "stdout",
     "output_type": "stream",
     "text": [
      "[100]\tvalid_0's rmse: 7.42544\n",
      "[200]\tvalid_0's rmse: 7.3516\n",
      "[300]\tvalid_0's rmse: 7.344\n",
      "Early stopping, best iteration is:\n",
      "[247]\tvalid_0's rmse: 7.34069\n",
      "Training target 19...\n",
      "Training until validation scores don't improve for 100 rounds\n"
     ]
    },
    {
     "name": "stderr",
     "output_type": "stream",
     "text": [
      "/opt/anaconda3/envs/spatialhackathon/lib/python3.9/site-packages/lightgbm/basic.py:743: UserWarning: Usage of np.ndarray subset (sliced data) is not recommended due to it will double the peak memory cost in LightGBM.\n",
      "  _log_warning(\n"
     ]
    },
    {
     "name": "stdout",
     "output_type": "stream",
     "text": [
      "[100]\tvalid_0's rmse: 5.03285\n",
      "[200]\tvalid_0's rmse: 4.9722\n",
      "[300]\tvalid_0's rmse: 4.96485\n",
      "[400]\tvalid_0's rmse: 4.9606\n",
      "[500]\tvalid_0's rmse: 4.95886\n",
      "[600]\tvalid_0's rmse: 4.95648\n",
      "Early stopping, best iteration is:\n",
      "[526]\tvalid_0's rmse: 4.95442\n",
      "Training target 20...\n",
      "Training until validation scores don't improve for 100 rounds\n"
     ]
    },
    {
     "name": "stderr",
     "output_type": "stream",
     "text": [
      "/opt/anaconda3/envs/spatialhackathon/lib/python3.9/site-packages/lightgbm/basic.py:743: UserWarning: Usage of np.ndarray subset (sliced data) is not recommended due to it will double the peak memory cost in LightGBM.\n",
      "  _log_warning(\n"
     ]
    },
    {
     "name": "stdout",
     "output_type": "stream",
     "text": [
      "[100]\tvalid_0's rmse: 6.74323\n",
      "[200]\tvalid_0's rmse: 6.6815\n",
      "[300]\tvalid_0's rmse: 6.68225\n",
      "[400]\tvalid_0's rmse: 6.67348\n",
      "[500]\tvalid_0's rmse: 6.67095\n",
      "Early stopping, best iteration is:\n",
      "[490]\tvalid_0's rmse: 6.66786\n",
      "Training target 21...\n",
      "Training until validation scores don't improve for 100 rounds\n"
     ]
    },
    {
     "name": "stderr",
     "output_type": "stream",
     "text": [
      "/opt/anaconda3/envs/spatialhackathon/lib/python3.9/site-packages/lightgbm/basic.py:743: UserWarning: Usage of np.ndarray subset (sliced data) is not recommended due to it will double the peak memory cost in LightGBM.\n",
      "  _log_warning(\n"
     ]
    },
    {
     "name": "stdout",
     "output_type": "stream",
     "text": [
      "[100]\tvalid_0's rmse: 7.67521\n",
      "[200]\tvalid_0's rmse: 7.60654\n",
      "[300]\tvalid_0's rmse: 7.59925\n",
      "[400]\tvalid_0's rmse: 7.60353\n",
      "Early stopping, best iteration is:\n",
      "[319]\tvalid_0's rmse: 7.59126\n",
      "Training target 22...\n",
      "Training until validation scores don't improve for 100 rounds\n"
     ]
    },
    {
     "name": "stderr",
     "output_type": "stream",
     "text": [
      "/opt/anaconda3/envs/spatialhackathon/lib/python3.9/site-packages/lightgbm/basic.py:743: UserWarning: Usage of np.ndarray subset (sliced data) is not recommended due to it will double the peak memory cost in LightGBM.\n",
      "  _log_warning(\n"
     ]
    },
    {
     "name": "stdout",
     "output_type": "stream",
     "text": [
      "[100]\tvalid_0's rmse: 2.94514\n",
      "[200]\tvalid_0's rmse: 2.93136\n",
      "[300]\tvalid_0's rmse: 2.93332\n",
      "Early stopping, best iteration is:\n",
      "[204]\tvalid_0's rmse: 2.93087\n",
      "Training target 23...\n",
      "Training until validation scores don't improve for 100 rounds\n"
     ]
    },
    {
     "name": "stderr",
     "output_type": "stream",
     "text": [
      "/opt/anaconda3/envs/spatialhackathon/lib/python3.9/site-packages/lightgbm/basic.py:743: UserWarning: Usage of np.ndarray subset (sliced data) is not recommended due to it will double the peak memory cost in LightGBM.\n",
      "  _log_warning(\n"
     ]
    },
    {
     "name": "stdout",
     "output_type": "stream",
     "text": [
      "[100]\tvalid_0's rmse: 5.96583\n",
      "[200]\tvalid_0's rmse: 5.86261\n",
      "[300]\tvalid_0's rmse: 5.85678\n",
      "Early stopping, best iteration is:\n",
      "[245]\tvalid_0's rmse: 5.85388\n",
      "Training target 24...\n",
      "Training until validation scores don't improve for 100 rounds\n"
     ]
    },
    {
     "name": "stderr",
     "output_type": "stream",
     "text": [
      "/opt/anaconda3/envs/spatialhackathon/lib/python3.9/site-packages/lightgbm/basic.py:743: UserWarning: Usage of np.ndarray subset (sliced data) is not recommended due to it will double the peak memory cost in LightGBM.\n",
      "  _log_warning(\n"
     ]
    },
    {
     "name": "stdout",
     "output_type": "stream",
     "text": [
      "[100]\tvalid_0's rmse: 7.13498\n",
      "[200]\tvalid_0's rmse: 6.9959\n",
      "[300]\tvalid_0's rmse: 6.97547\n",
      "[400]\tvalid_0's rmse: 6.96517\n",
      "Early stopping, best iteration is:\n",
      "[373]\tvalid_0's rmse: 6.96385\n",
      "Training target 25...\n",
      "Training until validation scores don't improve for 100 rounds\n"
     ]
    },
    {
     "name": "stderr",
     "output_type": "stream",
     "text": [
      "/opt/anaconda3/envs/spatialhackathon/lib/python3.9/site-packages/lightgbm/basic.py:743: UserWarning: Usage of np.ndarray subset (sliced data) is not recommended due to it will double the peak memory cost in LightGBM.\n",
      "  _log_warning(\n"
     ]
    },
    {
     "name": "stdout",
     "output_type": "stream",
     "text": [
      "[100]\tvalid_0's rmse: 6.88594\n",
      "[200]\tvalid_0's rmse: 6.85229\n",
      "Early stopping, best iteration is:\n",
      "[196]\tvalid_0's rmse: 6.85017\n",
      "Training target 26...\n",
      "Training until validation scores don't improve for 100 rounds\n"
     ]
    },
    {
     "name": "stderr",
     "output_type": "stream",
     "text": [
      "/opt/anaconda3/envs/spatialhackathon/lib/python3.9/site-packages/lightgbm/basic.py:743: UserWarning: Usage of np.ndarray subset (sliced data) is not recommended due to it will double the peak memory cost in LightGBM.\n",
      "  _log_warning(\n"
     ]
    },
    {
     "name": "stdout",
     "output_type": "stream",
     "text": [
      "[100]\tvalid_0's rmse: 7.94733\n",
      "[200]\tvalid_0's rmse: 7.66581\n",
      "[300]\tvalid_0's rmse: 7.59829\n",
      "[400]\tvalid_0's rmse: 7.57077\n",
      "[500]\tvalid_0's rmse: 7.56468\n",
      "Early stopping, best iteration is:\n",
      "[475]\tvalid_0's rmse: 7.5605\n",
      "Training target 27...\n",
      "Training until validation scores don't improve for 100 rounds\n"
     ]
    },
    {
     "name": "stderr",
     "output_type": "stream",
     "text": [
      "/opt/anaconda3/envs/spatialhackathon/lib/python3.9/site-packages/lightgbm/basic.py:743: UserWarning: Usage of np.ndarray subset (sliced data) is not recommended due to it will double the peak memory cost in LightGBM.\n",
      "  _log_warning(\n"
     ]
    },
    {
     "name": "stdout",
     "output_type": "stream",
     "text": [
      "[100]\tvalid_0's rmse: 5.96757\n",
      "[200]\tvalid_0's rmse: 5.93996\n",
      "[300]\tvalid_0's rmse: 5.93979\n",
      "Early stopping, best iteration is:\n",
      "[212]\tvalid_0's rmse: 5.93761\n",
      "Training target 28...\n",
      "Training until validation scores don't improve for 100 rounds\n"
     ]
    },
    {
     "name": "stderr",
     "output_type": "stream",
     "text": [
      "/opt/anaconda3/envs/spatialhackathon/lib/python3.9/site-packages/lightgbm/basic.py:743: UserWarning: Usage of np.ndarray subset (sliced data) is not recommended due to it will double the peak memory cost in LightGBM.\n",
      "  _log_warning(\n"
     ]
    },
    {
     "name": "stdout",
     "output_type": "stream",
     "text": [
      "[100]\tvalid_0's rmse: 6.71991\n",
      "[200]\tvalid_0's rmse: 6.66194\n",
      "[300]\tvalid_0's rmse: 6.65243\n",
      "Early stopping, best iteration is:\n",
      "[264]\tvalid_0's rmse: 6.65108\n",
      "Training target 29...\n",
      "Training until validation scores don't improve for 100 rounds\n"
     ]
    },
    {
     "name": "stderr",
     "output_type": "stream",
     "text": [
      "/opt/anaconda3/envs/spatialhackathon/lib/python3.9/site-packages/lightgbm/basic.py:743: UserWarning: Usage of np.ndarray subset (sliced data) is not recommended due to it will double the peak memory cost in LightGBM.\n",
      "  _log_warning(\n"
     ]
    },
    {
     "name": "stdout",
     "output_type": "stream",
     "text": [
      "[100]\tvalid_0's rmse: 6.52369\n",
      "[200]\tvalid_0's rmse: 6.35127\n",
      "[300]\tvalid_0's rmse: 6.32458\n",
      "[400]\tvalid_0's rmse: 6.31304\n",
      "[500]\tvalid_0's rmse: 6.3124\n",
      "[600]\tvalid_0's rmse: 6.31082\n",
      "Early stopping, best iteration is:\n",
      "[548]\tvalid_0's rmse: 6.30553\n",
      "Training target 30...\n",
      "Training until validation scores don't improve for 100 rounds\n"
     ]
    },
    {
     "name": "stderr",
     "output_type": "stream",
     "text": [
      "/opt/anaconda3/envs/spatialhackathon/lib/python3.9/site-packages/lightgbm/basic.py:743: UserWarning: Usage of np.ndarray subset (sliced data) is not recommended due to it will double the peak memory cost in LightGBM.\n",
      "  _log_warning(\n"
     ]
    },
    {
     "name": "stdout",
     "output_type": "stream",
     "text": [
      "[100]\tvalid_0's rmse: 2.94502\n",
      "[200]\tvalid_0's rmse: 2.90561\n",
      "[300]\tvalid_0's rmse: 2.90171\n",
      "[400]\tvalid_0's rmse: 2.90226\n",
      "Early stopping, best iteration is:\n",
      "[366]\tvalid_0's rmse: 2.89967\n",
      "Training target 31...\n",
      "Training until validation scores don't improve for 100 rounds\n"
     ]
    },
    {
     "name": "stderr",
     "output_type": "stream",
     "text": [
      "/opt/anaconda3/envs/spatialhackathon/lib/python3.9/site-packages/lightgbm/basic.py:743: UserWarning: Usage of np.ndarray subset (sliced data) is not recommended due to it will double the peak memory cost in LightGBM.\n",
      "  _log_warning(\n"
     ]
    },
    {
     "name": "stdout",
     "output_type": "stream",
     "text": [
      "[100]\tvalid_0's rmse: 2.46011\n",
      "[200]\tvalid_0's rmse: 2.45683\n",
      "Early stopping, best iteration is:\n",
      "[131]\tvalid_0's rmse: 2.45408\n",
      "Training target 32...\n",
      "Training until validation scores don't improve for 100 rounds\n"
     ]
    },
    {
     "name": "stderr",
     "output_type": "stream",
     "text": [
      "/opt/anaconda3/envs/spatialhackathon/lib/python3.9/site-packages/lightgbm/basic.py:743: UserWarning: Usage of np.ndarray subset (sliced data) is not recommended due to it will double the peak memory cost in LightGBM.\n",
      "  _log_warning(\n"
     ]
    },
    {
     "name": "stdout",
     "output_type": "stream",
     "text": [
      "[100]\tvalid_0's rmse: 7.3444\n",
      "[200]\tvalid_0's rmse: 7.33257\n",
      "Early stopping, best iteration is:\n",
      "[162]\tvalid_0's rmse: 7.32807\n",
      "Training target 33...\n",
      "Training until validation scores don't improve for 100 rounds\n"
     ]
    },
    {
     "name": "stderr",
     "output_type": "stream",
     "text": [
      "/opt/anaconda3/envs/spatialhackathon/lib/python3.9/site-packages/lightgbm/basic.py:743: UserWarning: Usage of np.ndarray subset (sliced data) is not recommended due to it will double the peak memory cost in LightGBM.\n",
      "  _log_warning(\n"
     ]
    },
    {
     "name": "stdout",
     "output_type": "stream",
     "text": [
      "[100]\tvalid_0's rmse: 5.53992\n",
      "[200]\tvalid_0's rmse: 5.49866\n",
      "Early stopping, best iteration is:\n",
      "[193]\tvalid_0's rmse: 5.49777\n",
      "Training target 34...\n",
      "Training until validation scores don't improve for 100 rounds\n"
     ]
    },
    {
     "name": "stderr",
     "output_type": "stream",
     "text": [
      "/opt/anaconda3/envs/spatialhackathon/lib/python3.9/site-packages/lightgbm/basic.py:743: UserWarning: Usage of np.ndarray subset (sliced data) is not recommended due to it will double the peak memory cost in LightGBM.\n",
      "  _log_warning(\n"
     ]
    },
    {
     "name": "stdout",
     "output_type": "stream",
     "text": [
      "[100]\tvalid_0's rmse: 2.94004\n",
      "[200]\tvalid_0's rmse: 2.92548\n",
      "[300]\tvalid_0's rmse: 2.92511\n",
      "Early stopping, best iteration is:\n",
      "[295]\tvalid_0's rmse: 2.92489\n"
     ]
    },
    {
     "name": "stderr",
     "output_type": "stream",
     "text": [
      "/Users/deweywang/Desktop/GitHub/HEVisum/python_scripts/pretrain_model.py:228: FutureWarning: You are using `torch.load` with `weights_only=False` (the current default value), which uses the default pickle module implicitly. It is possible to construct malicious pickle data which will execute arbitrary code during unpickling (See https://github.com/pytorch/pytorch/blob/main/SECURITY.md#untrusted-models for more details). In a future release, the default value for `weights_only` will be flipped to `True`. This limits the functions that could be executed during unpickling. Arbitrary objects will no longer be allowed to be loaded via this mode unless they are explicitly allowlisted by the user via `torch.serialization.add_safe_globals`. We recommend you start setting `weights_only=True` for any use case where you don't have full control of the loaded file. Please open an issue on GitHub for any issues related to this experimental feature.\n",
      "  ae.load_state_dict(torch.load(ae_checkpoint, map_location=\"cpu\"))\n",
      "/var/folders/7g/j5s0yzcj34l3v043s7znkplc0000gn/T/ipykernel_9016/1117153455.py:178: FutureWarning: You are using `torch.load` with `weights_only=False` (the current default value), which uses the default pickle module implicitly. It is possible to construct malicious pickle data which will execute arbitrary code during unpickling (See https://github.com/pytorch/pytorch/blob/main/SECURITY.md#untrusted-models for more details). In a future release, the default value for `weights_only` will be flipped to `True`. This limits the functions that could be executed during unpickling. Arbitrary objects will no longer be allowed to be loaded via this mode unless they are explicitly allowlisted by the user via `torch.serialization.add_safe_globals`. We recommend you start setting `weights_only=True` for any use case where you don't have full control of the loaded file. Please open an issue on GitHub for any issues related to this experimental feature.\n",
      "  net.load_state_dict(torch.load(ckpt_path, map_location=device))\n",
      "/opt/anaconda3/envs/spatialhackathon/lib/python3.9/site-packages/sklearn/utils/validation.py:2739: UserWarning: X does not have valid feature names, but LGBMRegressor was fitted with feature names\n",
      "  warnings.warn(\n",
      "/opt/anaconda3/envs/spatialhackathon/lib/python3.9/site-packages/sklearn/utils/validation.py:2739: UserWarning: X does not have valid feature names, but LGBMRegressor was fitted with feature names\n",
      "  warnings.warn(\n",
      "/opt/anaconda3/envs/spatialhackathon/lib/python3.9/site-packages/sklearn/utils/validation.py:2739: UserWarning: X does not have valid feature names, but LGBMRegressor was fitted with feature names\n",
      "  warnings.warn(\n",
      "/opt/anaconda3/envs/spatialhackathon/lib/python3.9/site-packages/sklearn/utils/validation.py:2739: UserWarning: X does not have valid feature names, but LGBMRegressor was fitted with feature names\n",
      "  warnings.warn(\n",
      "/opt/anaconda3/envs/spatialhackathon/lib/python3.9/site-packages/sklearn/utils/validation.py:2739: UserWarning: X does not have valid feature names, but LGBMRegressor was fitted with feature names\n",
      "  warnings.warn(\n",
      "/opt/anaconda3/envs/spatialhackathon/lib/python3.9/site-packages/sklearn/utils/validation.py:2739: UserWarning: X does not have valid feature names, but LGBMRegressor was fitted with feature names\n",
      "  warnings.warn(\n",
      "/opt/anaconda3/envs/spatialhackathon/lib/python3.9/site-packages/sklearn/utils/validation.py:2739: UserWarning: X does not have valid feature names, but LGBMRegressor was fitted with feature names\n",
      "  warnings.warn(\n",
      "/opt/anaconda3/envs/spatialhackathon/lib/python3.9/site-packages/sklearn/utils/validation.py:2739: UserWarning: X does not have valid feature names, but LGBMRegressor was fitted with feature names\n",
      "  warnings.warn(\n",
      "/opt/anaconda3/envs/spatialhackathon/lib/python3.9/site-packages/sklearn/utils/validation.py:2739: UserWarning: X does not have valid feature names, but LGBMRegressor was fitted with feature names\n",
      "  warnings.warn(\n",
      "/opt/anaconda3/envs/spatialhackathon/lib/python3.9/site-packages/sklearn/utils/validation.py:2739: UserWarning: X does not have valid feature names, but LGBMRegressor was fitted with feature names\n",
      "  warnings.warn(\n",
      "/opt/anaconda3/envs/spatialhackathon/lib/python3.9/site-packages/sklearn/utils/validation.py:2739: UserWarning: X does not have valid feature names, but LGBMRegressor was fitted with feature names\n",
      "  warnings.warn(\n",
      "/opt/anaconda3/envs/spatialhackathon/lib/python3.9/site-packages/sklearn/utils/validation.py:2739: UserWarning: X does not have valid feature names, but LGBMRegressor was fitted with feature names\n",
      "  warnings.warn(\n",
      "/opt/anaconda3/envs/spatialhackathon/lib/python3.9/site-packages/sklearn/utils/validation.py:2739: UserWarning: X does not have valid feature names, but LGBMRegressor was fitted with feature names\n",
      "  warnings.warn(\n",
      "/opt/anaconda3/envs/spatialhackathon/lib/python3.9/site-packages/sklearn/utils/validation.py:2739: UserWarning: X does not have valid feature names, but LGBMRegressor was fitted with feature names\n",
      "  warnings.warn(\n",
      "/opt/anaconda3/envs/spatialhackathon/lib/python3.9/site-packages/sklearn/utils/validation.py:2739: UserWarning: X does not have valid feature names, but LGBMRegressor was fitted with feature names\n",
      "  warnings.warn(\n",
      "/opt/anaconda3/envs/spatialhackathon/lib/python3.9/site-packages/sklearn/utils/validation.py:2739: UserWarning: X does not have valid feature names, but LGBMRegressor was fitted with feature names\n",
      "  warnings.warn(\n",
      "/opt/anaconda3/envs/spatialhackathon/lib/python3.9/site-packages/sklearn/utils/validation.py:2739: UserWarning: X does not have valid feature names, but LGBMRegressor was fitted with feature names\n",
      "  warnings.warn(\n",
      "/opt/anaconda3/envs/spatialhackathon/lib/python3.9/site-packages/sklearn/utils/validation.py:2739: UserWarning: X does not have valid feature names, but LGBMRegressor was fitted with feature names\n",
      "  warnings.warn(\n",
      "/opt/anaconda3/envs/spatialhackathon/lib/python3.9/site-packages/sklearn/utils/validation.py:2739: UserWarning: X does not have valid feature names, but LGBMRegressor was fitted with feature names\n",
      "  warnings.warn(\n",
      "/opt/anaconda3/envs/spatialhackathon/lib/python3.9/site-packages/sklearn/utils/validation.py:2739: UserWarning: X does not have valid feature names, but LGBMRegressor was fitted with feature names\n",
      "  warnings.warn(\n",
      "/opt/anaconda3/envs/spatialhackathon/lib/python3.9/site-packages/sklearn/utils/validation.py:2739: UserWarning: X does not have valid feature names, but LGBMRegressor was fitted with feature names\n",
      "  warnings.warn(\n",
      "/opt/anaconda3/envs/spatialhackathon/lib/python3.9/site-packages/sklearn/utils/validation.py:2739: UserWarning: X does not have valid feature names, but LGBMRegressor was fitted with feature names\n",
      "  warnings.warn(\n",
      "/opt/anaconda3/envs/spatialhackathon/lib/python3.9/site-packages/sklearn/utils/validation.py:2739: UserWarning: X does not have valid feature names, but LGBMRegressor was fitted with feature names\n",
      "  warnings.warn(\n",
      "/opt/anaconda3/envs/spatialhackathon/lib/python3.9/site-packages/sklearn/utils/validation.py:2739: UserWarning: X does not have valid feature names, but LGBMRegressor was fitted with feature names\n",
      "  warnings.warn(\n",
      "/opt/anaconda3/envs/spatialhackathon/lib/python3.9/site-packages/sklearn/utils/validation.py:2739: UserWarning: X does not have valid feature names, but LGBMRegressor was fitted with feature names\n",
      "  warnings.warn(\n",
      "/opt/anaconda3/envs/spatialhackathon/lib/python3.9/site-packages/sklearn/utils/validation.py:2739: UserWarning: X does not have valid feature names, but LGBMRegressor was fitted with feature names\n",
      "  warnings.warn(\n",
      "/opt/anaconda3/envs/spatialhackathon/lib/python3.9/site-packages/sklearn/utils/validation.py:2739: UserWarning: X does not have valid feature names, but LGBMRegressor was fitted with feature names\n",
      "  warnings.warn(\n",
      "/opt/anaconda3/envs/spatialhackathon/lib/python3.9/site-packages/sklearn/utils/validation.py:2739: UserWarning: X does not have valid feature names, but LGBMRegressor was fitted with feature names\n",
      "  warnings.warn(\n",
      "/opt/anaconda3/envs/spatialhackathon/lib/python3.9/site-packages/sklearn/utils/validation.py:2739: UserWarning: X does not have valid feature names, but LGBMRegressor was fitted with feature names\n",
      "  warnings.warn(\n",
      "/opt/anaconda3/envs/spatialhackathon/lib/python3.9/site-packages/sklearn/utils/validation.py:2739: UserWarning: X does not have valid feature names, but LGBMRegressor was fitted with feature names\n",
      "  warnings.warn(\n",
      "/opt/anaconda3/envs/spatialhackathon/lib/python3.9/site-packages/sklearn/utils/validation.py:2739: UserWarning: X does not have valid feature names, but LGBMRegressor was fitted with feature names\n",
      "  warnings.warn(\n",
      "/opt/anaconda3/envs/spatialhackathon/lib/python3.9/site-packages/sklearn/utils/validation.py:2739: UserWarning: X does not have valid feature names, but LGBMRegressor was fitted with feature names\n",
      "  warnings.warn(\n",
      "/opt/anaconda3/envs/spatialhackathon/lib/python3.9/site-packages/sklearn/utils/validation.py:2739: UserWarning: X does not have valid feature names, but LGBMRegressor was fitted with feature names\n",
      "  warnings.warn(\n",
      "/opt/anaconda3/envs/spatialhackathon/lib/python3.9/site-packages/sklearn/utils/validation.py:2739: UserWarning: X does not have valid feature names, but LGBMRegressor was fitted with feature names\n",
      "  warnings.warn(\n",
      "/opt/anaconda3/envs/spatialhackathon/lib/python3.9/site-packages/sklearn/utils/validation.py:2739: UserWarning: X does not have valid feature names, but LGBMRegressor was fitted with feature names\n",
      "  warnings.warn(\n"
     ]
    },
    {
     "name": "stdout",
     "output_type": "stream",
     "text": [
      "✅ Saved stacked submission.\n"
     ]
    }
   ],
   "source": [
    "import os\n",
    "import numpy as np\n",
    "import joblib\n",
    "import torch\n",
    "from torch.utils.data import DataLoader, Subset\n",
    "from sklearn.model_selection import LeaveOneGroupOut\n",
    "from sklearn.multioutput import MultiOutputRegressor\n",
    "from sklearn.model_selection import train_test_split\n",
    "import lightgbm as lgb\n",
    "from scipy.stats import rankdata\n",
    "from python_scripts.import_data import importDataset\n",
    "from python_scripts.operate_model import predict\n",
    "from lightgbm import early_stopping, log_evaluation\n",
    "\n",
    "\n",
    "# ---------------- Settings ----------------\n",
    "save_root  = save_folder  # your save_folder path\n",
    "n_folds    = len([d for d in os.listdir(save_root) if d.startswith('fold')])\n",
    "n_samples  = len(full_dataset)\n",
    "C          = 35  # num cell types\n",
    "start_fold = 0\n",
    "BATCH_SIZE = 64\n",
    "# If optimizing Spearman, convert labels to ranks\n",
    "use_rank   = False\n",
    "\n",
    "# --- 1) Prepare OOF meta-features ---\n",
    "# Initialize matrix for OOF predictions\n",
    "n_samples = len(full_dataset)\n",
    "oof_preds = np.zeros((n_samples, C), dtype=np.float32)\n",
    "# True labels (raw or rank)\n",
    "# importDataset returns a dict-like sample, so label is under key 'label'\n",
    "y_true = np.vstack([ full_dataset[i]['label'].cpu().numpy() for i in range(n_samples) ])\n",
    "if use_rank:\n",
    "    y_meta = np.apply_along_axis(rankdata, 1, y_true)\n",
    "else:\n",
    "    y_meta = y_true\n",
    "\n",
    "# Build CV splitter (must match first stage splits)\n",
    "logo = LeaveOneGroupOut()\n",
    "\n",
    "# Loop over folds, load best model, predict on validation indices\n",
    "device = torch.device(\"mps\" if torch.backends.mps.is_available() else \"cpu\")\n",
    "for fold_id, (tr_idx, va_idx) in enumerate(\n",
    "        logo.split(X=np.zeros(n_samples), y=None, groups=slide_idx)):\n",
    "    # Load model\n",
    "    # if fold_id > start_fold:\n",
    "    #     print(f\"⏭️ Skipping fold {fold_id}\")\n",
    "    #     continue\n",
    "    ckpt_path = os.path.join(save_root, f\"fold{fold_id}\", \"best_model.pt\")\n",
    "    print(f\"Loading model from {ckpt_path}...\")\n",
    "    net = PretrainedEncoderRegressor(\n",
    "        ae_checkpoint=checkpoint_path,\n",
    "        ae_type=\"all\",\n",
    "        center_dim=64, neighbor_dim=64, hidden_dim=128,\n",
    "        tile_size=26, output_dim=35,\n",
    "        freeze_encoder = True\n",
    "    )\n",
    "\n",
    "    # 2) monkey‐patch 一个新的 head\n",
    "    net.decoder  = nn.Sequential(\n",
    "        nn.Linear(64+64, 128),\n",
    "        nn.SiLU(),\n",
    "        nn.Dropout(0.1),\n",
    "        nn.Linear(128, 64),\n",
    "        nn.SiLU(),\n",
    "        nn.Dropout(0.1),\n",
    "        nn.Linear(64, 35)\n",
    "        \n",
    "    )\n",
    "    net = net.to(device)    # Alternatively, if your model requires specific args, replace with:\n",
    "    # net = VisionMLP_MultiTask(tile_dim=64, subtile_dim=64, output_dim=35).to(device)\n",
    "    net.load_state_dict(torch.load(ckpt_path, map_location=device))\n",
    "    net.to(device).eval()\n",
    "\n",
    "    # Predict on validation set\n",
    "    val_ds = Subset(full_dataset, va_idx)\n",
    "    val_loader = DataLoader(val_ds, batch_size=BATCH_SIZE, shuffle=False)\n",
    "    preds = predict(net, val_loader, device)  # (n_val, C)\n",
    "    oof_preds[va_idx] = preds\n",
    "    print(f\"Fold {fold_id}: OOF preds shape {preds.shape}\")\n",
    "\n",
    "# --- 2) Train LightGBM meta-model ---\n",
    "# Choose objective: regression on rank (for Spearman) or raw (for MSE)\n",
    "# 將 meta features 拆成訓練集與 early stopping 用的驗證集\n",
    "X_train, X_val, y_train, y_val = train_test_split(oof_preds, y_meta, test_size=0.2, random_state=42)\n",
    "print(\"Meta feature shape:\", X_train.shape)\n",
    "print(\"Feature std (min/max):\", np.min(np.std(X_train, axis=0)), np.max(np.std(X_train, axis=0)))\n",
    "\n",
    "\n",
    "# # Base model\n",
    "# lgb_base = lgb.LGBMRegressor(\n",
    "#     objective='l2',\n",
    "#     metric='rmse',\n",
    "#     n_estimators=12000,\n",
    "#     max_depth=15,\n",
    "#     learning_rate=0.008,\n",
    "#     num_leaves=32,\n",
    "#     colsample_bytree=0.25\n",
    "# )\n",
    "lgb_base = lgb.LGBMRegressor(\n",
    "    objective='l2',\n",
    "    metric='rmse',\n",
    "    n_estimators=3000,         # 配合 early stopping，設稍微高一點\n",
    "    max_depth=15,               # 較安全的深度，避免沒意義的深樹\n",
    "    learning_rate=0.02,        # 穩定學習率，搭配 early stopping\n",
    "    num_leaves=32,             # 適合特徵數量為 35 的情況\n",
    "    colsample_bytree=0.9,      # 使用較多特徵\n",
    "    subsample=0.8,\n",
    "    subsample_freq=1,\n",
    "    min_data_in_leaf=20,       # 防止小 leaf，提升泛化\n",
    "#    random_state=42,\n",
    "    verbosity=-1\n",
    ")\n",
    "# 將每個 target 分別 early stopping\n",
    "meta_model = MultiOutputRegressor(lgb_base)\n",
    "\n",
    "print(\"Training LightGBM on OOF meta-features with early stopping...\")\n",
    "meta_model.estimators_ = []\n",
    "\n",
    "for i in range(y_train.shape[1]):\n",
    "    print(f\"Training target {i}...\")\n",
    "    model  = lgb.LGBMRegressor(\n",
    "        objective='l2',\n",
    "        metric='rmse',\n",
    "        n_estimators=2000,         # 配合 early stopping，設稍微高一點\n",
    "        max_depth=7,               # 較安全的深度，避免沒意義的深樹\n",
    "        learning_rate=0.02,        # 穩定學習率，搭配 early stopping\n",
    "        num_leaves=32,             # 適合特徵數量為 35 的情況\n",
    "        colsample_bytree=0.9,      # 使用較多特徵\n",
    "        subsample=0.8,\n",
    "        subsample_freq=1,\n",
    "        min_data_in_leaf=20,       # 防止小 leaf，提升泛化\n",
    "        random_state=42,\n",
    "        verbosity=-1\n",
    "    )\n",
    "\n",
    "    model.fit(\n",
    "        X_train,\n",
    "        y_train[:, i],\n",
    "        eval_set=[(X_val, y_val[:, i])],\n",
    "        callbacks=[\n",
    "            early_stopping(stopping_rounds=100),\n",
    "            log_evaluation(period=100)\n",
    "        ]\n",
    "    )\n",
    "\n",
    "    meta_model.estimators_.append(model)\n",
    "\n",
    "# 保存模型\n",
    "joblib.dump(meta_model, os.path.join(save_root, 'meta_model.pkl'))\n",
    "\n",
    "\n",
    "# --- 3) Prepare test meta-features ---\n",
    "n_test = len(test_dataset)\n",
    "test_meta = np.zeros((n_test, C), dtype=np.float32)\n",
    "for fold_id in range(n_folds):\n",
    "    ckpt_path = os.path.join(save_root, f\"fold{fold_id}\", \"best_model.pt\")\n",
    "    net = PretrainedEncoderRegressor(\n",
    "        ae_checkpoint=checkpoint_path,\n",
    "        ae_type=\"all\",\n",
    "        center_dim=64, neighbor_dim=64, hidden_dim=128,\n",
    "        tile_size=26, output_dim=35,\n",
    "        freeze_encoder = True\n",
    "    )\n",
    "\n",
    "    # 2) monkey‐patch 一个新的 head\n",
    "    net.decoder  = nn.Sequential(\n",
    "        nn.Linear(64+64, 128),\n",
    "        nn.SiLU(),\n",
    "        nn.Dropout(0.1),\n",
    "        nn.Linear(128, 64),\n",
    "        nn.SiLU(),\n",
    "        nn.Dropout(0.1),\n",
    "        nn.Linear(64, 35)\n",
    "        \n",
    "    )\n",
    "    net = net.to(device)\n",
    "    net.load_state_dict(torch.load(ckpt_path, map_location=device))\n",
    "    net.to(device).eval()\n",
    "    test_loader = DataLoader(test_dataset, batch_size=BATCH_SIZE, shuffle=False)\n",
    "    preds = predict(net, test_loader, device)\n",
    "    test_meta += preds\n",
    "# Average across folds\n",
    "test_meta /= n_folds\n",
    "\n",
    "# --- 4) Meta-model predict ---\n",
    "if use_rank:\n",
    "    final_preds = meta_model.predict(test_meta) / (C + 1)\n",
    "else:\n",
    "    final_preds = meta_model.predict(test_meta)\n",
    "\n",
    "# --- Save submission ---\n",
    "import h5py\n",
    "import pandas as pd\n",
    "with h5py.File(\"./dataset/elucidata_ai_challenge_data.h5\",\"r\") as f:\n",
    "    test_spot_ids = pd.DataFrame(np.array(f[\"spots/Test\"][\"S_7\"]))\n",
    "sub = pd.DataFrame(final_preds, columns=[f\"C{i+1}\" for i in range(C)])\n",
    "sub.insert(0, 'ID', test_spot_ids.index)\n",
    "sub.to_csv(os.path.join(save_root, 'submission_stacked.csv'), index=False)\n",
    "print(\"✅ Saved stacked submission.\")\n"
   ]
  },
  {
   "cell_type": "code",
   "execution_count": null,
   "metadata": {},
   "outputs": [
    {
     "ename": "NameError",
     "evalue": "name 'slide_idx' is not defined",
     "output_type": "error",
     "traceback": [
      "\u001b[0;31m---------------------------------------------------------------------------\u001b[0m",
      "\u001b[0;31mNameError\u001b[0m                                 Traceback (most recent call last)",
      "Cell \u001b[0;32mIn[6], line 38\u001b[0m\n\u001b[1;32m     34\u001b[0m logo \u001b[38;5;241m=\u001b[39m LeaveOneGroupOut()\n\u001b[1;32m     35\u001b[0m device \u001b[38;5;241m=\u001b[39m torch\u001b[38;5;241m.\u001b[39mdevice(\u001b[38;5;124m\"\u001b[39m\u001b[38;5;124mmps\u001b[39m\u001b[38;5;124m\"\u001b[39m \u001b[38;5;28;01mif\u001b[39;00m torch\u001b[38;5;241m.\u001b[39mbackends\u001b[38;5;241m.\u001b[39mmps\u001b[38;5;241m.\u001b[39mis_available() \u001b[38;5;28;01melse\u001b[39;00m \u001b[38;5;124m\"\u001b[39m\u001b[38;5;124mcpu\u001b[39m\u001b[38;5;124m\"\u001b[39m)\n\u001b[1;32m     37\u001b[0m \u001b[38;5;28;01mfor\u001b[39;00m fold_id, (tr_idx, va_idx) \u001b[38;5;129;01min\u001b[39;00m \u001b[38;5;28menumerate\u001b[39m(\n\u001b[0;32m---> 38\u001b[0m         logo\u001b[38;5;241m.\u001b[39msplit(X\u001b[38;5;241m=\u001b[39mnp\u001b[38;5;241m.\u001b[39mzeros(n_samples), y\u001b[38;5;241m=\u001b[39m\u001b[38;5;28;01mNone\u001b[39;00m, groups\u001b[38;5;241m=\u001b[39m\u001b[43mslide_idx\u001b[49m)):\n\u001b[1;32m     39\u001b[0m \n\u001b[1;32m     40\u001b[0m     \u001b[38;5;66;03m# 如果当前 fold 不在我们想要的 meta_folds 列表里，就跳过\u001b[39;00m\n\u001b[1;32m     41\u001b[0m     \u001b[38;5;28;01mif\u001b[39;00m fold_id \u001b[38;5;129;01mnot\u001b[39;00m \u001b[38;5;129;01min\u001b[39;00m meta_folds:\n\u001b[1;32m     42\u001b[0m         \u001b[38;5;28mprint\u001b[39m(\u001b[38;5;124mf\u001b[39m\u001b[38;5;124m\"\u001b[39m\u001b[38;5;124m⏭️ Skipping OOF for fold \u001b[39m\u001b[38;5;132;01m{\u001b[39;00mfold_id\u001b[38;5;132;01m}\u001b[39;00m\u001b[38;5;124m\"\u001b[39m)\n",
      "\u001b[0;31mNameError\u001b[0m: name 'slide_idx' is not defined"
     ]
    }
   ],
   "source": [
    "import os\n",
    "import numpy as np\n",
    "import joblib\n",
    "import torch\n",
    "from torch.utils.data import DataLoader, Subset\n",
    "from sklearn.model_selection import LeaveOneGroupOut\n",
    "from sklearn.multioutput import MultiOutputRegressor\n",
    "import lightgbm as lgb\n",
    "from scipy.stats import rankdata\n",
    "from python_scripts.import_data import importDataset\n",
    "from python_scripts.operate_model import predict\n",
    "\n",
    "# --- 配置: 只用哪些 fold 的结果来训练/预测 meta-model ---\n",
    "meta_folds = [0]  # 例如只用 fold0, fold2, fold4\n",
    "\n",
    "# 1) 准备 full_dataset, slide_idx, test_dataset 等\n",
    "full_dataset = importDataset(\n",
    "    grouped_data, model,\n",
    "    image_keys=['tile','subtiles'],\n",
    "    transform=lambda x: x\n",
    ")\n",
    "n_samples = len(full_dataset)\n",
    "C = 35  # 类别数\n",
    "\n",
    "# 2) 预留 oof_preds 和 fold_ids\n",
    "oof_preds    = np.zeros((n_samples, C), dtype=np.float32)\n",
    "oof_fold_ids = np.full(n_samples, -1, dtype=int)\n",
    "\n",
    "# 真标签\n",
    "y_true = np.vstack([ full_dataset[i]['label'].cpu().numpy() for i in range(n_samples) ])\n",
    "y_meta = y_true.copy()  # 不做 rank 时直接用 raw\n",
    "\n",
    "# 3) 生成 OOF 预测并记录 fold id\n",
    "logo = LeaveOneGroupOut()\n",
    "device = torch.device(\"mps\" if torch.backends.mps.is_available() else \"cpu\")\n",
    "\n",
    "for fold_id, (tr_idx, va_idx) in enumerate(\n",
    "        logo.split(X=np.zeros(n_samples), y=None, groups=slide_idx)):\n",
    "\n",
    "    # 如果当前 fold 不在我们想要的 meta_folds 列表里，就跳过\n",
    "    if fold_id not in meta_folds:\n",
    "        print(f\"⏭️ Skipping OOF for fold {fold_id}\")\n",
    "        continue\n",
    "\n",
    "    print(f\"\\n>>> Generating OOF for fold {fold_id}\")\n",
    "    ckpt_path = os.path.join(save_root, f\"fold{fold_id}\", \"best_model.pt\")\n",
    "    net = PretrainedEncoderRegressor(\n",
    "        ae_checkpoint=checkpoint_path,\n",
    "        ae_type=\"all\",\n",
    "        center_dim=64, neighbor_dim=64, hidden_dim=128,\n",
    "        tile_size=26, output_dim=35,\n",
    "        freeze_encoder = True\n",
    "    )\n",
    "\n",
    "    # 2) monkey‐patch 一个新的 head\n",
    "    net.decoder  = nn.Sequential(\n",
    "        nn.Linear(64+64, 128),\n",
    "        nn.SiLU(),\n",
    "        nn.Dropout(0.1),\n",
    "        nn.Linear(128, 64),\n",
    "        nn.SiLU(),\n",
    "        nn.Dropout(0.1),\n",
    "        nn.Linear(64, 35)\n",
    "        \n",
    "    )\n",
    "    net = net.to(device)\n",
    "    net.load_state_dict(torch.load(ckpt_path, map_location=device))\n",
    "    net.eval()\n",
    "\n",
    "    val_loader = DataLoader(Subset(full_dataset, va_idx), batch_size=BATCH_SIZE, shuffle=False)\n",
    "    preds = predict(net, val_loader, device)  # (n_val, C)\n",
    "\n",
    "    oof_preds[va_idx]    = preds\n",
    "    oof_fold_ids[va_idx] = fold_id\n",
    "\n",
    "    print(f\"  → Fold {fold_id} OOF preds shape: {preds.shape}\")\n",
    "# 4) 只选取 meta_folds 的行来训练 meta-model\n",
    "mask = np.isin(oof_fold_ids, meta_folds)\n",
    "X_meta = oof_preds[mask]\n",
    "y_meta_sub = y_meta[mask]\n",
    "\n",
    "print(f\"\\nTraining meta-model on folds {meta_folds}:\")\n",
    "print(f\"  使用样本数：{X_meta.shape[0]} / {n_samples}\")\n",
    "\n",
    "lgb_base = lgb.LGBMRegressor(\n",
    "    objective='regression',\n",
    "    learning_rate=0.001,\n",
    "    n_estimators=1000,\n",
    "    num_leaves=31,\n",
    "    subsample=0.7,\n",
    "    colsample_bytree=0.7,\n",
    "    n_jobs=-1,\n",
    "    force_col_wise=True\n",
    ")\n",
    "meta_model = MultiOutputRegressor(lgb_base)\n",
    "meta_model.fit(X_meta, y_meta_sub)\n",
    "joblib.dump(meta_model, os.path.join(save_root, 'meta_model.pkl'))\n",
    "\n",
    "# 5) 准备 test_meta，只平均 meta_folds 中的预测\n",
    "n_folds = len([d for d in os.listdir(save_root) if d.startswith('fold')])\n",
    "n_test  = len(test_dataset)\n",
    "test_meta = np.zeros((n_test, C), dtype=np.float32)\n",
    "\n",
    "for fold_id in range(n_folds):\n",
    "    if fold_id not in meta_folds:\n",
    "        continue\n",
    "    ckpt_path = os.path.join(save_root, f\"fold{fold_id}\", \"best_model.pt\")\n",
    "    net = PretrainedEncoderRegressor(\n",
    "        ae_checkpoint=checkpoint_path,\n",
    "        ae_type=\"all\",\n",
    "        center_dim=64, neighbor_dim=64, hidden_dim=128,\n",
    "        tile_size=26, output_dim=35,\n",
    "        freeze_encoder = True\n",
    "    )\n",
    "\n",
    "    # 2) monkey‐patch 一个新的 head\n",
    "    net.decoder  = nn.Sequential(\n",
    "        nn.Linear(64+64, 128),\n",
    "        nn.SiLU(),\n",
    "        nn.Dropout(0.1),\n",
    "        nn.Linear(128, 64),\n",
    "        nn.SiLU(),\n",
    "        nn.Dropout(0.1),\n",
    "        nn.Linear(64, 35)\n",
    "        \n",
    "    )\n",
    "    net = net.to(device)\n",
    "    net.load_state_dict(torch.load(ckpt_path, map_location=device))\n",
    "    net.eval()\n",
    "\n",
    "    loader = DataLoader(test_dataset, batch_size=BATCH_SIZE, shuffle=False)\n",
    "    preds = predict(net, loader, device)\n",
    "    test_meta += preds\n",
    "\n",
    "# 平均时除以参与的 folds 数目\n",
    "test_meta /= len(meta_folds)\n",
    "\n",
    "# 6) 用 meta-model 做最终预测\n",
    "final_preds = meta_model.predict(test_meta)\n",
    "\n",
    "# --- Save submission ---\n",
    "import h5py\n",
    "import pandas as pd\n",
    "\n",
    "with h5py.File(\"./dataset/elucidata_ai_challenge_data.h5\",\"r\") as f:\n",
    "    test_spot_ids = pd.DataFrame(np.array(f[\"spots/Test\"][\"S_7\"]))\n",
    "\n",
    "sub = pd.DataFrame(final_preds, columns=[f\"C{i+1}\" for i in range(C)])\n",
    "sub.insert(0, 'ID', test_spot_ids.index)\n",
    "sub.to_csv(os.path.join(save_root, 'submission_stacked.csv'), index=False)\n",
    "print(\"✅ Saved stacked submission.\")\n"
   ]
  },
  {
   "cell_type": "code",
   "execution_count": 12,
   "metadata": {},
   "outputs": [
    {
     "name": "stdout",
     "output_type": "stream",
     "text": [
      "[LightGBM] [Info] Auto-choosing col-wise multi-threading, the overhead of testing was 0.001748 seconds.\n",
      "You can set `force_col_wise=true` to remove the overhead.\n",
      "[LightGBM] [Info] Total Bins 255\n",
      "[LightGBM] [Info] Number of data points in the train set: 292180, number of used features: 1\n"
     ]
    },
    {
     "name": "stderr",
     "output_type": "stream",
     "text": [
      "/opt/anaconda3/envs/spatialhackathon/lib/python3.9/site-packages/sklearn/utils/validation.py:2739: UserWarning: X does not have valid feature names, but LGBMRanker was fitted with feature names\n",
      "  warnings.warn(\n"
     ]
    },
    {
     "name": "stdout",
     "output_type": "stream",
     "text": [
      "✅ Saved stacked submission.\n"
     ]
    }
   ],
   "source": [
    "import os\n",
    "import numpy as np\n",
    "import joblib\n",
    "from scipy.stats import rankdata\n",
    "import lightgbm as lgb\n",
    "from sklearn.model_selection import LeaveOneGroupOut\n",
    "from torch.utils.data import DataLoader, Subset\n",
    "from python_scripts.import_data import importDataset\n",
    "from python_scripts.operate_model import predict\n",
    "\n",
    "\n",
    "# --- 配置 ---\n",
    "meta_folds = [0,1,2,3,4,5]  # 例如只用 fold0, fold2, fold4\n",
    "C          = 35       # cell type 数量\n",
    "BATCH_SIZE = 64\n",
    "\n",
    "# 1) 导入 full_dataset, slide_idx, test_dataset\n",
    "full_dataset = importDataset(grouped_data, model,\n",
    "                             image_keys=['tile','subtiles'],\n",
    "                             transform=lambda x: x)\n",
    "n_spots = len(full_dataset)\n",
    "\n",
    "# 2) 生成 OOF preds & 记录 fold id (同你之前做法)\n",
    "oof_preds    = np.zeros((n_spots, C), dtype=np.float32)\n",
    "oof_fold_ids = np.full(n_spots, -1, dtype=int)\n",
    "logo = LeaveOneGroupOut()\n",
    "device = torch.device(\"mps\" if torch.backends.mps.is_available() else \"cpu\")\n",
    "\n",
    "for fold_id, (tr_idx, va_idx) in enumerate(\n",
    "        logo.split(X=np.zeros(n_spots), y=None, groups=slide_idx)):\n",
    "    if fold_id not in meta_folds:\n",
    "        continue\n",
    "    # load CNN model & predict\n",
    "    ckpt = os.path.join(save_root, f\"fold{fold_id}\", \"best_model.pt\")\n",
    "    net  = model.to(device)\n",
    "    net.load_state_dict(torch.load(ckpt, map_location=device))\n",
    "    net.eval()\n",
    "    loader = DataLoader(Subset(full_dataset, va_idx),\n",
    "                        batch_size=BATCH_SIZE, shuffle=False)\n",
    "    preds = predict(net, loader, device)  # (n_val, C)\n",
    "    oof_preds[va_idx]    = preds\n",
    "    oof_fold_ids[va_idx] = fold_id\n",
    "\n",
    "# 真标签矩阵 (n_spots, C)\n",
    "y_true = np.vstack([ full_dataset[i]['label'].cpu().numpy()\n",
    "                     for i in range(n_spots) ])\n",
    "\n",
    "# 3) 筛出 meta_folds 的行\n",
    "mask       = np.isin(oof_fold_ids, meta_folds)\n",
    "X_meta     = oof_preds[mask]    # (N_meta, C)\n",
    "y_meta     = y_true[mask]       # (N_meta, C)\n",
    "slides_sub = slide_idx[mask]    # (N_meta,)\n",
    "\n",
    "N_meta = X_meta.shape[0]\n",
    "\n",
    "docs_feat = X_meta.reshape(-1, 1)   # 变成 (N_meta * 35, 1)\n",
    "\n",
    "# 对应的真实 abundance，也要 flatten\n",
    "docs_true = y_meta.reshape(-1,)     # (N_meta * 35,)\n",
    "\n",
    "# 每个 spot 里对 35 个 abundance 做 ordinal 排，即 relevance label\n",
    "docs_rel = np.zeros_like(docs_true, dtype=int)\n",
    "for i in range(X_meta.shape[0]):\n",
    "    start = i * C\n",
    "    end   = start + C\n",
    "    docs_rel[start:end] = rankdata(\n",
    "        docs_true[start:end],\n",
    "        method='ordinal'\n",
    "    ) - 1          # 变成 0‐based\n",
    "\n",
    "# Flatten 之后的 group：每个 spot 下固定 35 条 doc\n",
    "train_group = [C] * X_meta.shape[0]  # e.g. [35,35,35, ...] 长度 = N_meta\n",
    "\n",
    "# ------------------------ 2) 训练一个 LGBMRanker ------------------------\n",
    "ranker = lgb.LGBMRanker(\n",
    "    objective='lambdarank',\n",
    "    metric='ndcg@35',      # 也可以只关注 ndcg@5、@10\n",
    "    label_gain=list(range(docs_rel.max()+1)),\n",
    "    learning_rate=1e-3,\n",
    "    n_estimators=1000,\n",
    "    num_leaves=31,\n",
    "    subsample=0.7,\n",
    "    colsample_bytree=0.7,\n",
    "    n_jobs=-1\n",
    ")\n",
    "ranker.fit(\n",
    "    docs_feat,   # (N_meta*35, 1)\n",
    "    docs_rel,    # (N_meta*35,)\n",
    "    group=train_group\n",
    ")\n",
    "\n",
    "# ------------------------ 3) 测试时同样 Flatten + Predict ------------------------\n",
    "# 5) 准备 test_meta，只平均 meta_folds 中的预测\n",
    "n_folds = len([d for d in os.listdir(save_root) if d.startswith('fold')])\n",
    "n_test  = len(test_dataset)\n",
    "test_meta = np.zeros((n_test, C), dtype=np.float32)\n",
    "\n",
    "for fold_id in range(n_folds):\n",
    "    if fold_id not in meta_folds:\n",
    "        continue\n",
    "    ckpt_path = os.path.join(save_root, f\"fold{fold_id}\", \"best_model.pt\")\n",
    "    net = model.to(device)\n",
    "    net.load_state_dict(torch.load(ckpt_path, map_location=device))\n",
    "    net.eval()\n",
    "\n",
    "    loader = DataLoader(test_dataset, batch_size=BATCH_SIZE, shuffle=False)\n",
    "    preds = predict(net, loader, device)\n",
    "    test_meta += preds\n",
    "\n",
    "# 平均时除以参与的 folds 数目\n",
    "test_meta /= len(meta_folds)\n",
    "\n",
    "docs_test_feat = test_meta.reshape(-1, 1)     # (n_test*35, 1)\n",
    "test_group     = [C] * test_meta.shape[0]    # [35, 35, ..., 35]\n",
    "\n",
    "docs_test_score = ranker.predict(docs_test_feat, group=test_group)  # (n_test*35,)\n",
    "\n",
    "# 把分数 reshape 回 (n_test, 35)\n",
    "scores = docs_test_score.reshape(test_meta.shape[0], C)  \n",
    "\n",
    "\n",
    "final_scores = test_meta*scores\n",
    "# 6) 写入 submission\n",
    "import pandas as pd, h5py\n",
    "\n",
    "\n",
    "with h5py.File(\"./dataset/elucidata_ai_challenge_data.h5\",\"r\") as f:\n",
    "    test_spot_ids = pd.DataFrame(np.array(f[\"spots/Test\"][\"S_7\"]))\n",
    "\n",
    "sub = pd.DataFrame(final_scores, columns=[f\"C{i+1}\" for i in range(C)])\n",
    "sub.insert(0, 'ID', test_spot_ids.index)\n",
    "sub.to_csv(os.path.join(save_root, 'submission_LGBMRanker.csv'), index=False)\n",
    "print(\"✅ Saved stacked submission.\")"
   ]
  },
  {
   "cell_type": "markdown",
   "metadata": {},
   "source": [
    "# Predict"
   ]
  },
  {
   "cell_type": "code",
   "execution_count": 23,
   "metadata": {},
   "outputs": [
    {
     "name": "stderr",
     "output_type": "stream",
     "text": [
      "/var/folders/7g/j5s0yzcj34l3v043s7znkplc0000gn/T/ipykernel_9016/3498125875.py:22: FutureWarning: You are using `torch.load` with `weights_only=False` (the current default value), which uses the default pickle module implicitly. It is possible to construct malicious pickle data which will execute arbitrary code during unpickling (See https://github.com/pytorch/pytorch/blob/main/SECURITY.md#untrusted-models for more details). In a future release, the default value for `weights_only` will be flipped to `True`. This limits the functions that could be executed during unpickling. Arbitrary objects will no longer be allowed to be loaded via this mode unless they are explicitly allowlisted by the user via `torch.serialization.add_safe_globals`. We recommend you start setting `weights_only=True` for any use case where you don't have full control of the loaded file. Please open an issue on GitHub for any issues related to this experimental feature.\n",
      "  raw = torch.load(pt_path, map_location=\"cpu\")\n"
     ]
    },
    {
     "name": "stdout",
     "output_type": "stream",
     "text": [
      "⚠️ 从 'tile' 推断样本数量: 2088\n",
      "Model forward signature: (tile, subtiles)\n"
     ]
    }
   ],
   "source": [
    "import torch\n",
    "import inspect\n",
    "from python_scripts.operate_model import get_model_inputs\n",
    "\n",
    "def load_node_feature_data(pt_path: str, model, num_cells: int = 35) -> dict:\n",
    "    \"\"\"\n",
    "    根据 model.forward 的参数自动加载 .pt 里对应的字段，\n",
    "    并且如果没有 label，就自动创建一个全 0 的 label 张量，\n",
    "    其尺寸为 (样本数, num_cells)，样本数从第一个有 __len__ 的输入推断。\n",
    "\n",
    "    参数：\n",
    "      pt_path:     str，.pt 文件路径\n",
    "      model:       已实例化的 PyTorch 模型\n",
    "      num_cells:   int，label 的列数（默认 35）\n",
    "\n",
    "    返回：\n",
    "      dict: key 对应模型 forward 中的参数名（不含 self），\n",
    "            value 是对应的 Tensor/ndarray，\n",
    "            并额外保证有 'label' 字段。\n",
    "    \"\"\"\n",
    "    # 1) 载入原始数据\n",
    "    raw = torch.load(pt_path, map_location=\"cpu\")\n",
    "\n",
    "    # 2) 取模型 forward 入参签名（不含 self）\n",
    "    sig = inspect.signature(model.forward)\n",
    "    param_names = [p for p in sig.parameters if p != \"self\"]\n",
    "\n",
    "    out = {}\n",
    "    for name in param_names:\n",
    "        # a) 直接同名\n",
    "        if name in raw:\n",
    "            out[name] = raw[name]\n",
    "            continue\n",
    "        # b) 复数形式\n",
    "        if name + \"s\" in raw:\n",
    "            out[name] = raw[name + \"s\"]\n",
    "            continue\n",
    "        # c) 模糊匹配（下划线、复数或前后缀）\n",
    "        cands = [k for k in raw if name in k or k in name]\n",
    "        if len(cands) == 1:\n",
    "            out[name] = raw[cands[0]]\n",
    "            continue\n",
    "        raise KeyError(f\"无法找到 '{name}' 在 pt 文件中的对应字段，raw keys: {list(raw.keys())}\")\n",
    "\n",
    "    # 3) 用第一个支持 len() 的输入推断样本数\n",
    "    dataset_size = None\n",
    "    for v in out.keys():\n",
    "        if hasattr(out[v], \"__len__\"):\n",
    "            dataset_size = len(out[v])\n",
    "            print(f\"⚠️ 从 '{v}' 推断样本数量: {dataset_size}\")\n",
    "            break\n",
    "    if dataset_size is None:\n",
    "        raise RuntimeError(\"无法从任何输入中推断样本数量，请检查 pt 文件内容。\")\n",
    "\n",
    "    # 4) 自动补 label\n",
    "\n",
    "    out[\"label\"] = torch.zeros((dataset_size, num_cells), dtype=torch.float32)\n",
    "    return out\n",
    "\n",
    "\n",
    "image_keys = [ 'tile', 'subtiles']\n",
    "\n",
    "\n",
    "# 用法示例\n",
    "from python_scripts.import_data import importDataset\n",
    "# 假设你的 model 已经定义好并实例化为 `model`\n",
    "test_dataset = load_node_feature_data(\"dataset/spot-rank/test/original_masked/test_dataset.pt\", model)\n",
    "test_dataset = importDataset(\n",
    "        data_dict=test_dataset,\n",
    "        model=model,\n",
    "        image_keys=image_keys,\n",
    "        transform=lambda x: x,  # identity transform\n",
    "        print_sig=True\n",
    "    )\n",
    "\n"
   ]
  },
  {
   "cell_type": "code",
   "execution_count": 11,
   "metadata": {},
   "outputs": [
    {
     "name": "stdout",
     "output_type": "stream",
     "text": [
      "🔍 Checking dataset sample: 1000\n",
      "📏 tile shape: torch.Size([3, 78, 78]) | dtype: torch.float32 | min: 0.200, max: 1.000, mean: 0.729, std: 0.152\n",
      "📏 subtiles shape: torch.Size([9, 3, 26, 26]) | dtype: torch.float32 | min: 0.200, max: 1.000, mean: 0.729, std: 0.152\n",
      "📏 label shape: torch.Size([35]) | dtype: torch.float32 | min: 0.000, max: 0.000, mean: 0.000, std: 0.000\n",
      "--- label head (前 10 個元素):\n",
      "tensor([0., 0., 0., 0., 0., 0., 0., 0., 0., 0.])\n",
      "✅ All checks passed!\n"
     ]
    }
   ],
   "source": [
    "\n",
    "test_dataset.check_item(1000, 10)\n"
   ]
  },
  {
   "cell_type": "code",
   "execution_count": 24,
   "metadata": {},
   "outputs": [],
   "source": [
    "from torch.utils.data import DataLoader\n",
    "test_loader = DataLoader(test_dataset, batch_size=32, shuffle=False)\n"
   ]
  },
  {
   "cell_type": "code",
   "execution_count": 25,
   "metadata": {},
   "outputs": [
    {
     "name": "stderr",
     "output_type": "stream",
     "text": [
      "/var/folders/7g/j5s0yzcj34l3v043s7znkplc0000gn/T/ipykernel_9016/566374972.py:37: FutureWarning: You are using `torch.load` with `weights_only=False` (the current default value), which uses the default pickle module implicitly. It is possible to construct malicious pickle data which will execute arbitrary code during unpickling (See https://github.com/pytorch/pytorch/blob/main/SECURITY.md#untrusted-models for more details). In a future release, the default value for `weights_only` will be flipped to `True`. This limits the functions that could be executed during unpickling. Arbitrary objects will no longer be allowed to be loaded via this mode unless they are explicitly allowlisted by the user via `torch.serialization.add_safe_globals`. We recommend you start setting `weights_only=True` for any use case where you don't have full control of the loaded file. Please open an issue on GitHub for any issues related to this experimental feature.\n",
      "  net.load_state_dict(torch.load(ckpt, map_location=\"cpu\"))\n"
     ]
    },
    {
     "name": "stdout",
     "output_type": "stream",
     "text": [
      "✅ Saved fold 0 predictions to /Users/deweywang/Desktop/GitHub/HEVisum/output_folder/rank-spot/realign/pretrain/AE_Center_noaug/filtered_directly_rank/k-fold/realign_all/original_image/submission_fold0.csv\n",
      "✅ Saved fold 1 predictions to /Users/deweywang/Desktop/GitHub/HEVisum/output_folder/rank-spot/realign/pretrain/AE_Center_noaug/filtered_directly_rank/k-fold/realign_all/original_image/submission_fold1.csv\n",
      "✅ Saved fold 2 predictions to /Users/deweywang/Desktop/GitHub/HEVisum/output_folder/rank-spot/realign/pretrain/AE_Center_noaug/filtered_directly_rank/k-fold/realign_all/original_image/submission_fold2.csv\n",
      "✅ Saved fold 3 predictions to /Users/deweywang/Desktop/GitHub/HEVisum/output_folder/rank-spot/realign/pretrain/AE_Center_noaug/filtered_directly_rank/k-fold/realign_all/original_image/submission_fold3.csv\n",
      "✅ Saved fold 4 predictions to /Users/deweywang/Desktop/GitHub/HEVisum/output_folder/rank-spot/realign/pretrain/AE_Center_noaug/filtered_directly_rank/k-fold/realign_all/original_image/submission_fold4.csv\n",
      "✅ Saved fold 5 predictions to /Users/deweywang/Desktop/GitHub/HEVisum/output_folder/rank-spot/realign/pretrain/AE_Center_noaug/filtered_directly_rank/k-fold/realign_all/original_image/submission_fold5.csv\n",
      "✅ Saved rank‐ensemble submission to /Users/deweywang/Desktop/GitHub/HEVisum/output_folder/rank-spot/realign/pretrain/AE_Center_noaug/filtered_directly_rank/k-fold/realign_all/original_image/submission_rank_ensemble.csv\n"
     ]
    }
   ],
   "source": [
    "import glob\n",
    "import torch\n",
    "import numpy as np\n",
    "import pandas as pd\n",
    "import os\n",
    "import h5py\n",
    "from torch.utils.data import DataLoader\n",
    "\n",
    "# 讀 test spot index\n",
    "with h5py.File(\"./dataset/elucidata_ai_challenge_data.h5\",\"r\") as f:\n",
    "    test_spots     = f[\"spots/Test\"]\n",
    "    test_spot_table= pd.DataFrame(np.array(test_spots['S_7']))\n",
    "\n",
    "fold_ckpts = sorted(glob.glob(os.path.join(save_folder, \"fold*\", \"best_model.pt\")))\n",
    "models = []\n",
    "for ckpt in fold_ckpts:\n",
    "    net = PretrainedEncoderRegressor(\n",
    "        ae_checkpoint=checkpoint_path,\n",
    "        ae_type=\"all\",\n",
    "        center_dim=64, neighbor_dim=64, hidden_dim=128,\n",
    "        tile_size=26, output_dim=35,\n",
    "        freeze_encoder = False\n",
    "    )\n",
    "\n",
    "    # 2) monkey‐patch 一个新的 head\n",
    "    net.decoder  = nn.Sequential(\n",
    "        nn.Linear(64+64, 128),\n",
    "        nn.SiLU(),\n",
    "        nn.Dropout(0.1),\n",
    "        nn.Linear(128, 64),\n",
    "        nn.SiLU(),\n",
    "        nn.Dropout(0.1),\n",
    "        nn.Linear(64, 35)\n",
    "        \n",
    "    )\n",
    "    net = net.to(device)\n",
    "    net.load_state_dict(torch.load(ckpt, map_location=\"cpu\"))\n",
    "    net.to(device).eval()\n",
    "    models.append(net)\n",
    "\n",
    "all_fold_preds = []\n",
    "for fold_id, net in enumerate(models):\n",
    "    # 推論\n",
    "    with torch.no_grad():\n",
    "        preds = predict(net, test_loader, device)  # (N_test,35) numpy array\n",
    "\n",
    "    # 1) 存每一折的原始預測\n",
    "    df_fold = pd.DataFrame(preds, columns=[f\"C{i+1}\" for i in range(preds.shape[1])])\n",
    "    df_fold.insert(0, \"ID\", test_spot_table.index)\n",
    "    path_fold = os.path.join(save_folder, f\"submission_fold{fold_id}.csv\")\n",
    "    df_fold.to_csv(path_fold, index=False)\n",
    "    print(f\"✅ Saved fold {fold_id} predictions to {path_fold}\")\n",
    "\n",
    "    all_fold_preds.append(preds)\n",
    "\n",
    "# 2) 做 rank‐average ensemble\n",
    "all_fold_preds = np.stack(all_fold_preds, axis=0)       # (K, N_test, 35)\n",
    "ranks          = all_fold_preds.argsort(axis=2).argsort(axis=2).astype(float)\n",
    "mean_rank      = ranks.mean(axis=0)                    # (N_test,35)\n",
    "\n",
    "# 3) 存 final ensemble\n",
    "df_ens = pd.DataFrame(mean_rank, columns=[f\"C{i+1}\" for i in range(mean_rank.shape[1])])\n",
    "df_ens.insert(0, \"ID\", test_spot_table.index)\n",
    "path_ens = os.path.join(save_folder, \"submission_rank_ensemble.csv\")\n",
    "df_ens.to_csv(path_ens, index=False)\n",
    "print(f\"✅ Saved rank‐ensemble submission to {path_ens}\")\n"
   ]
  }
 ],
 "metadata": {
  "kernelspec": {
   "display_name": "spatialhackathon",
   "language": "python",
   "name": "python3"
  },
  "language_info": {
   "codemirror_mode": {
    "name": "ipython",
    "version": 3
   },
   "file_extension": ".py",
   "mimetype": "text/x-python",
   "name": "python",
   "nbconvert_exporter": "python",
   "pygments_lexer": "ipython3",
   "version": "3.9.16"
  }
 },
 "nbformat": 4,
 "nbformat_minor": 2
}
