{
 "cells": [
  {
   "cell_type": "markdown",
   "metadata": {},
   "source": [
    "# Import Model"
   ]
  },
  {
   "cell_type": "code",
   "execution_count": null,
   "metadata": {},
   "outputs": [],
   "source": [
    "import torch\n",
    "import torch.nn as nn\n",
    "class MultiTaskDecoder(nn.Module):\n",
    "    def __init__(self, input_dim, output_dim=35):\n",
    "        super().__init__()\n",
    "        self.shared = nn.Sequential(\n",
    "            nn.Linear(input_dim, 128),\n",
    "            nn.ReLU(),\n",
    "            nn.Linear(128, 64),\n",
    "            nn.ReLU(),\n",
    "        )\n",
    "        # 每個 cell type 都有一個 Linear 頭部（1 個 scalar output）\n",
    "        self.heads = nn.ModuleList([nn.Linear(64, 1) for _ in range(output_dim)])\n",
    "\n",
    "    def forward(self, x):\n",
    "        shared_feat = self.shared(x)  # (B, 64)\n",
    "        outs = [head(shared_feat) for head in self.heads]  # List[(B, 1)] × 35\n",
    "        return torch.cat(outs, dim=1)  # (B, 35)\n",
    "\n",
    "class SEBlock(nn.Module):\n",
    "    def __init__(self, channels, reduction=16):\n",
    "        super().__init__()\n",
    "        self.pool = nn.AdaptiveAvgPool2d(1)\n",
    "        self.fc = nn.Sequential(\n",
    "            nn.Linear(channels, channels // reduction),\n",
    "            nn.ReLU(),\n",
    "            nn.Linear(channels // reduction, channels),\n",
    "            nn.Sigmoid()\n",
    "        )\n",
    "\n",
    "    def forward(self, x):\n",
    "        b, c, _, _ = x.size()\n",
    "        y = self.pool(x).view(b, c)\n",
    "        y = self.fc(y).view(b, c, 1, 1)\n",
    "        return x * y  # Channel-wise attention\n",
    "class SpatialAttention(nn.Module):\n",
    "    def __init__(self, kernel_size=7):\n",
    "        super().__init__()\n",
    "        padding = (kernel_size - 1) // 2\n",
    "        self.conv = nn.Conv2d(1, 1, kernel_size=kernel_size, padding=padding)\n",
    "        self.sigmoid = nn.Sigmoid()\n",
    "\n",
    "    def forward(self, x):\n",
    "        # x: (B, C, H, W)\n",
    "        avg_out = x.mean(dim=1, keepdim=True)  # → (B, 1, H, W)\n",
    "        attn = self.conv(avg_out)              # → (B, 1, H, W)\n",
    "        attn = self.sigmoid(attn)              # → (B, 1, H, W)\n",
    "        return x * attn                        # → (B, C, H, W)\n",
    "\n",
    "class SimpleCNNEncoder(nn.Module):\n",
    "    def __init__(self, out_dim, in_channels=4):\n",
    "        super().__init__()\n",
    "        self.cnn = nn.Sequential(\n",
    "            nn.Conv2d(in_channels, 16, kernel_size=3, padding=1),\n",
    "            nn.BatchNorm2d(16),\n",
    "            nn.ReLU(),\n",
    "            nn.MaxPool2d(2),\n",
    "\n",
    "            nn.Conv2d(16, 32, kernel_size=3, padding=1),\n",
    "            nn.BatchNorm2d(32),\n",
    "            nn.ReLU(),\n",
    "            SEBlock(32),             # Channel-wise Attention ✅\n",
    "            SpatialAttention(),      # Spatial Attention ✅\n",
    "            nn.MaxPool2d(2),\n",
    "\n",
    "            nn.Conv2d(32, 64, kernel_size=3, padding=1),\n",
    "            nn.BatchNorm2d(64),\n",
    "            nn.ReLU(),\n",
    "            SEBlock(64),             # Channel-wise Attention ✅\n",
    "            SpatialAttention(),      # Spatial Attention ✅\n",
    "            nn.AdaptiveAvgPool2d((1, 1))\n",
    "        )\n",
    "        self.flatten = nn.Flatten()\n",
    "        self.linear = nn.Linear(64, out_dim)\n",
    "\n",
    "    def forward(self, x):\n",
    "        x = self.cnn(x)\n",
    "        x = self.flatten(x)\n",
    "        x = self.linear(x)\n",
    "        return x\n",
    "\n",
    "\n",
    "\n",
    "\n",
    "class VisionWithCoord_MTL(nn.Module):\n",
    "    def __init__(self, cnn_out_dim=64, output_dim=35):\n",
    "        super().__init__()\n",
    "        self.encoder = SimpleCNNEncoder(out_dim=cnn_out_dim, in_channels=4)\n",
    "        self.decoder = MultiTaskDecoder(cnn_out_dim + 2, output_dim)\n",
    "\n",
    "    def forward(self, tile, coords):\n",
    "        feat = self.encoder(tile)                # (B, 64)\n",
    "        x = torch.cat([feat, coords], dim=1)     # (B, 66)\n",
    "        out = self.decoder(x)                    # (B, 35)\n",
    "        return out\n",
    "\n",
    "\n",
    "model = VisionWithCoord()"
   ]
  },
  {
   "cell_type": "code",
   "execution_count": null,
   "metadata": {},
   "outputs": [
    {
     "name": "stdout",
     "output_type": "stream",
     "text": [
      "載入的 class 名稱: ['CNNEncoder', 'MLPDecoder', 'VisionMLPModelWithCoord']\n"
     ]
    }
   ],
   "source": [
    "\n",
    "from python_scripts.import_model import load_model_classes\n",
    "from python_scripts.operate_model import get_model_inputs\n",
    "\n",
    "# ==============================================\n",
    "# 範例使用\n",
    "# ==============================================\n",
    "folder = \"./output_folder/CNN+MLP/\"  # 替換成實際的資料夾路徑，該路徑下應有 model.py\n",
    "try:\n",
    "    loaded_classes = load_model_classes(folder)\n",
    "    print(\"載入的 class 名稱:\", list(loaded_classes.keys()))\n",
    "except Exception as e:\n",
    "    print(\"載入模型 class 發生錯誤:\", e)    \n"
   ]
  },
  {
   "cell_type": "code",
   "execution_count": 7,
   "metadata": {},
   "outputs": [
    {
     "name": "stdout",
     "output_type": "stream",
     "text": [
      "Model forward signature: (center_tile, subtiles, neighbor_tiles, coords)\n"
     ]
    },
    {
     "data": {
      "text/plain": [
       "<Signature (center_tile, subtiles, neighbor_tiles, coords)>"
      ]
     },
     "execution_count": 7,
     "metadata": {},
     "output_type": "execute_result"
    }
   ],
   "source": [
    "# 假設 loaded_classes 是你已經從 model.py 載入的 class 字典\n",
    "name_of_class = 'VisionMLPModelWithCoord'\n",
    "ModelClass = loaded_classes.get(name_of_class)\n",
    "if ModelClass is None:\n",
    "    raise ValueError(f\"找不到 {name_of_class} 這個 class\")\n",
    "# 這裡呼叫 ModelClass() 建立實例，注意不能直接用 name_of_class() (因為它是一個字串)\n",
    "model = ModelClass()  # 如果需要參數，請在此處傳入\n",
    "get_model_inputs(model)\n",
    "#print(\"建立的模型實例:\", model)\n"
   ]
  },
  {
   "cell_type": "markdown",
   "metadata": {},
   "source": [
    "# Import training data"
   ]
  },
  {
   "cell_type": "code",
   "execution_count": 2,
   "metadata": {},
   "outputs": [
    {
     "name": "stderr",
     "output_type": "stream",
     "text": [
      "/opt/anaconda3/envs/spatialhackathon/lib/python3.9/site-packages/torchvision/io/image.py:14: UserWarning: Failed to load image Python extension: 'dlopen(/opt/anaconda3/envs/spatialhackathon/lib/python3.9/site-packages/torchvision/image.so, 0x0006): Library not loaded: @rpath/libjpeg.9.dylib\n",
      "  Referenced from: <FB2FD416-6C4D-3621-B677-61F07C02A3C5> /opt/anaconda3/envs/spatialhackathon/lib/python3.9/site-packages/torchvision/image.so\n",
      "  Reason: tried: '/opt/anaconda3/envs/spatialhackathon/lib/python3.9/site-packages/torchvision/../../../libjpeg.9.dylib' (no such file), '/opt/anaconda3/envs/spatialhackathon/lib/python3.9/site-packages/torchvision/../../../libjpeg.9.dylib' (no such file), '/opt/anaconda3/envs/spatialhackathon/lib/python3.9/lib-dynload/../../libjpeg.9.dylib' (no such file), '/opt/anaconda3/envs/spatialhackathon/bin/../lib/libjpeg.9.dylib' (no such file)'If you don't plan on using image functionality from `torchvision.io`, you can ignore this warning. Otherwise, there might be something wrong with your environment. Did you have `libjpeg` or `libpng` installed before building `torchvision` from source?\n",
      "  warn(\n",
      "/var/folders/7g/j5s0yzcj34l3v043s7znkplc0000gn/T/ipykernel_9259/1962845458.py:9: FutureWarning: You are using `torch.load` with `weights_only=False` (the current default value), which uses the default pickle module implicitly. It is possible to construct malicious pickle data which will execute arbitrary code during unpickling (See https://github.com/pytorch/pytorch/blob/main/SECURITY.md#untrusted-models for more details). In a future release, the default value for `weights_only` will be flipped to `True`. This limits the functions that could be executed during unpickling. Arbitrary objects will no longer be allowed to be loaded via this mode unless they are explicitly allowlisted by the user via `torch.serialization.add_safe_globals`. We recommend you start setting `weights_only=True` for any use case where you don't have full control of the loaded file. Please open an issue on GitHub for any issues related to this experimental feature.\n",
      "  tile = torch.load(\"./dataset/final_data/M_tiles.pt\")\n"
     ]
    },
    {
     "name": "stdout",
     "output_type": "stream",
     "text": [
      "Model forward signature: (tile, coords)\n"
     ]
    },
    {
     "name": "stderr",
     "output_type": "stream",
     "text": [
      "/var/folders/7g/j5s0yzcj34l3v043s7znkplc0000gn/T/ipykernel_9259/1962845458.py:12: FutureWarning: You are using `torch.load` with `weights_only=False` (the current default value), which uses the default pickle module implicitly. It is possible to construct malicious pickle data which will execute arbitrary code during unpickling (See https://github.com/pytorch/pytorch/blob/main/SECURITY.md#untrusted-models for more details). In a future release, the default value for `weights_only` will be flipped to `True`. This limits the functions that could be executed during unpickling. Arbitrary objects will no longer be allowed to be loaded via this mode unless they are explicitly allowlisted by the user via `torch.serialization.add_safe_globals`. We recommend you start setting `weights_only=True` for any use case where you don't have full control of the loaded file. Please open an issue on GitHub for any issues related to this experimental feature.\n",
      "  label = torch.load(\"./dataset/final_data/gu_log2_labels.pt\")\n",
      "/var/folders/7g/j5s0yzcj34l3v043s7znkplc0000gn/T/ipykernel_9259/1962845458.py:13: FutureWarning: You are using `torch.load` with `weights_only=False` (the current default value), which uses the default pickle module implicitly. It is possible to construct malicious pickle data which will execute arbitrary code during unpickling (See https://github.com/pytorch/pytorch/blob/main/SECURITY.md#untrusted-models for more details). In a future release, the default value for `weights_only` will be flipped to `True`. This limits the functions that could be executed during unpickling. Arbitrary objects will no longer be allowed to be loaded via this mode unless they are explicitly allowlisted by the user via `torch.serialization.add_safe_globals`. We recommend you start setting `weights_only=True` for any use case where you don't have full control of the loaded file. Please open an issue on GitHub for any issues related to this experimental feature.\n",
      "  meta = torch.load(\"./dataset/final_data/meta_info.pt\")\n"
     ]
    }
   ],
   "source": [
    "from sklearn.preprocessing import StandardScaler\n",
    "import numpy as np\n",
    "import torch\n",
    "from python_scripts.import_data import importDataset, preprocess_data\n",
    "from torch.utils.data import DataLoader\n",
    "from torchvision import transforms\n",
    "\n",
    "# 載入資料\n",
    "tile = torch.load(\"./dataset/final_data/M_tiles.pt\")\n",
    "#subtiles = torch.load(\"./train_dataset_sep_v2/subtiles.pt\")\n",
    "#neighbor_tiles = torch.load(\"./train_dataset_sep_v2/neighbor_tiles.pt\")\n",
    "label = torch.load(\"./dataset/final_data/gu_log2_labels.pt\")\n",
    "meta = torch.load(\"./dataset/final_data/meta_info.pt\")\n",
    "\n",
    "raw_coords = []\n",
    "for _meta in meta['coords']:\n",
    "    if _meta is not None:\n",
    "         x, y = _meta\n",
    "    else:\n",
    "        x, y = 0, 0\n",
    "    raw_coords.append([x, y])\n",
    "\n",
    "raw_coords = np.array(raw_coords)\n",
    "\n",
    "\n",
    "coord_scaler = StandardScaler()\n",
    "normalized_coords = coord_scaler.fit_transform(raw_coords)\n",
    "\n",
    "train_dataset = {\n",
    "        'tile': tile,\n",
    "        #'subtiles': subtiles,\n",
    "        #'neighbor_tiles': neighbor_tiles,\n",
    "        'coords': normalized_coords,\n",
    "        'label': label\n",
    "    }\n",
    "\n",
    "my_transform = transforms.Compose([\n",
    "        transforms.ToTensor(),\n",
    "        transforms.Normalize(mean=[0.5]*3, std=[0.5]*3)\n",
    "    ])\n",
    "\n",
    "image_keys = ['tile']\n",
    "\n",
    "#processed_data = preprocess_data(train_dataset, image_keys, my_transform)\n",
    "\n",
    "train_dataset = importDataset(\n",
    "        data_dict=train_dataset,\n",
    "        model=model,\n",
    "        image_keys=image_keys,\n",
    "        transform=lambda x: x,  # identity transform\n",
    "        print_sig=True\n",
    "    )"
   ]
  },
  {
   "cell_type": "code",
   "execution_count": 3,
   "metadata": {},
   "outputs": [
    {
     "ename": "NameError",
     "evalue": "name 'processed_data' is not defined",
     "output_type": "error",
     "traceback": [
      "\u001b[0;31m---------------------------------------------------------------------------\u001b[0m",
      "\u001b[0;31mNameError\u001b[0m                                 Traceback (most recent call last)",
      "Cell \u001b[0;32mIn[3], line 2\u001b[0m\n\u001b[1;32m      1\u001b[0m train_dataset \u001b[38;5;241m=\u001b[39m importDataset(\n\u001b[0;32m----> 2\u001b[0m         data_dict\u001b[38;5;241m=\u001b[39m\u001b[43mprocessed_data\u001b[49m,\n\u001b[1;32m      3\u001b[0m         model\u001b[38;5;241m=\u001b[39mmodel,\n\u001b[1;32m      4\u001b[0m         image_keys\u001b[38;5;241m=\u001b[39mimage_keys,\n\u001b[1;32m      5\u001b[0m         transform\u001b[38;5;241m=\u001b[39m\u001b[38;5;28;01mlambda\u001b[39;00m x: x,  \u001b[38;5;66;03m# identity transform\u001b[39;00m\n\u001b[1;32m      6\u001b[0m         print_sig\u001b[38;5;241m=\u001b[39m\u001b[38;5;28;01mTrue\u001b[39;00m\n\u001b[1;32m      7\u001b[0m         )\n",
      "\u001b[0;31mNameError\u001b[0m: name 'processed_data' is not defined"
     ]
    }
   ],
   "source": [
    "train_dataset = importDataset(\n",
    "        data_dict=processed_data,\n",
    "        model=model,\n",
    "        image_keys=image_keys,\n",
    "        transform=lambda x: x,  # identity transform\n",
    "        print_sig=True\n",
    "        )"
   ]
  },
  {
   "cell_type": "code",
   "execution_count": 3,
   "metadata": {},
   "outputs": [
    {
     "name": "stdout",
     "output_type": "stream",
     "text": [
      "🔍 Checking dataset sample: 1000\n",
      "📏 tile shape: torch.Size([4, 112, 112]) | dtype: torch.float32 | min: 0.000, max: 1.000, mean: 0.821, std: 0.146\n",
      "📏 coords shape: torch.Size([2]) | dtype: torch.float32 | min: -0.284, max: 1.071, mean: 0.393, std: 0.959\n",
      "--- coords head (前 10 個元素):\n",
      "tensor([-0.2844,  1.0713])\n",
      "📏 label shape: torch.Size([35]) | dtype: torch.float32 | min: -0.716, max: 2.101, mean: 0.409, std: 0.874\n",
      "--- label head (前 10 個元素):\n",
      "tensor([-0.5241, -0.1400, -0.4067, -0.5927, -0.6649,  1.8673, -0.1369,  0.3297,\n",
      "         1.7991,  1.8701])\n",
      "✅ All checks passed!\n"
     ]
    }
   ],
   "source": [
    "train_dataset.check_item(1000, 10)\n"
   ]
  },
  {
   "cell_type": "code",
   "execution_count": 5,
   "metadata": {},
   "outputs": [
    {
     "name": "stdout",
     "output_type": "stream",
     "text": [
      "✅ Train: 26179 samples\n",
      "✅ Val: 6545 samples\n"
     ]
    }
   ],
   "source": [
    "from torch.utils.data import random_split\n",
    "\n",
    "# 設定比例\n",
    "train_ratio = 0.8\n",
    "val_ratio = 1 - train_ratio\n",
    "total_len = len(train_dataset)\n",
    "train_len = int(train_ratio * total_len)\n",
    "val_len = total_len - train_len\n",
    "\n",
    "# 拆分 Dataset\n",
    "generator = torch.Generator().manual_seed(42)\n",
    "train_set, val_set = random_split(train_dataset, [train_len, val_len], generator=generator)\n",
    "\n",
    "print(f\"✅ Train: {len(train_set)} samples\")\n",
    "print(f\"✅ Val: {len(val_set)} samples\")\n",
    "\n",
    "# 🔹 將其包成 DataLoader\n",
    "BATCH_SIZE = 32\n",
    "\n",
    "train_loader = DataLoader(train_set, batch_size=BATCH_SIZE, shuffle=False)\n",
    "val_loader = DataLoader(val_set, batch_size=BATCH_SIZE, shuffle=False)\n"
   ]
  },
  {
   "cell_type": "markdown",
   "metadata": {},
   "source": [
    "#  Train model"
   ]
  },
  {
   "cell_type": "code",
   "execution_count": 6,
   "metadata": {},
   "outputs": [],
   "source": [
    "import os\n",
    "import torch\n",
    "import csv\n",
    "import matplotlib.pyplot as plt\n",
    "from IPython.display import clear_output, display\n",
    "from torch.optim.lr_scheduler import ReduceLROnPlateau\n",
    "from tqdm import tqdm\n",
    "from python_scripts.operate_model import get_model_inputs, train_one_epoch, evaluate, predict, EarlyStopping, plot_losses, plot_per_cell_metrics\n",
    "import torch.nn as nn\n",
    "\n",
    "# ---------------------------\n",
    "# 指定儲存資料夾\n",
    "# ---------------------------\n",
    "save_folder = \"output_folder/with_all_preprocess_log2/GU+SE+SA+MTD/\"  # 修改為你想要的資料夾名稱\n",
    "if not os.path.exists(save_folder):\n",
    "    os.makedirs(save_folder)\n"
   ]
  },
  {
   "cell_type": "code",
   "execution_count": 15,
   "metadata": {},
   "outputs": [],
   "source": [
    "def get_loss_fn(loss_type=\"mse\", cell_weights=None):\n",
    "    \"\"\"\n",
    "    支援多種 loss function，包含:\n",
    "    - \"mse\": Mean Squared Error (預設)\n",
    "    - \"weighted_mse\": 根據 cell_weights 做加權的 MSE\n",
    "    - \"mae\": Mean Absolute Error\n",
    "    - \"spearman\": Spearman loss (非 differentiable，但可以實驗)\n",
    "\n",
    "    回傳對應的 loss function。\n",
    "    \"\"\"\n",
    "    loss_type = loss_type.lower()\n",
    "\n",
    "    if loss_type == \"mse\":\n",
    "        return nn.MSELoss()\n",
    "    \n",
    "    elif loss_type == \"mae\":\n",
    "        return nn.L1Loss()\n",
    "\n",
    "    elif loss_type == \"weighted_mse\":\n",
    "        if cell_weights is None:\n",
    "            raise ValueError(\"需要提供 cell_weights 才能使用 weighted MSE\")\n",
    "\n",
    "        def weighted_mse(pred, target):\n",
    "            loss = (pred - target) ** 2  # (B, C)\n",
    "            loss = loss.mean(dim=0)      # 對 batch 平均 → (C,)\n",
    "            weighted_loss = (loss * cell_weights.to(pred.device)).mean()\n",
    "            return weighted_loss\n",
    "\n",
    "        return weighted_mse\n",
    "\n",
    "    elif loss_type == \"spearman\":\n",
    "        from scipy.stats import spearmanr\n",
    "\n",
    "        def spearman_loss(pred, target):\n",
    "            pred = pred.detach().cpu().numpy()\n",
    "            target = target.detach().cpu().numpy()\n",
    "            rho = np.mean([spearmanr(pred[:, i], target[:, i])[0] for i in range(pred.shape[1])])\n",
    "            return 1 - rho  # 模擬 loss 越小越好（非 differentiable）\n",
    "        \n",
    "        return spearman_loss\n",
    "\n",
    "    else:\n",
    "        raise ValueError(f\"不支援的 loss_type: {loss_type}\")\n"
   ]
  },
  {
   "cell_type": "code",
   "execution_count": 19,
   "metadata": {},
   "outputs": [
    {
     "data": {
      "text/plain": [
       "tensor([1.2118, 1.4699, 1.2259, 1.2525, 1.2928, 1.3897, 1.4408, 1.8691, 1.2647,\n",
       "        1.4540, 1.6404, 1.3991, 2.0000, 1.7003, 1.2916, 1.2448, 1.5875, 1.3241,\n",
       "        1.8716, 1.6964, 1.7266, 1.9636, 1.4970, 1.4547, 1.5564, 1.8343, 1.2534,\n",
       "        1.7102, 1.6177, 1.4917, 1.4073, 1.4435, 1.9684, 1.7002, 1.4398])"
      ]
     },
     "execution_count": 19,
     "metadata": {},
     "output_type": "execute_result"
    }
   ],
   "source": [
    "cell_weights = torch.tensor(mse_per_cell)\n",
    "cell_weights = cell_weights / cell_weights.max()   # scale 到 [0, 1]\n",
    "cell_weights = cell_weights + 1.0                  # shift 到 [1, 2]\n",
    "cell_weights"
   ]
  },
  {
   "cell_type": "code",
   "execution_count": 21,
   "metadata": {},
   "outputs": [
    {
     "data": {
      "text/plain": [
       "tensor([0.3966, 0.8798, 0.4230, 0.4727, 0.5482, 0.7296, 0.8255, 1.6273, 0.4956,\n",
       "        0.8500, 1.1992, 0.7474, 1.8725, 1.3113, 0.5461, 0.4584, 1.1001, 0.6069,\n",
       "        1.6320, 1.3040, 1.3606, 1.8043, 0.9306, 0.8514, 1.0419, 1.5623, 0.4745,\n",
       "        1.3299, 1.1567, 0.9208, 0.7626, 0.8305, 1.8133, 1.3111, 0.8236])"
      ]
     },
     "execution_count": 21,
     "metadata": {},
     "output_type": "execute_result"
    }
   ],
   "source": [
    "cell_weights = torch.tensor(mse_per_cell)\n",
    "cell_weights = cell_weights / cell_weights.mean()  # 均值為 1，總和為 35 左右\n",
    "cell_weights"
   ]
  },
  {
   "cell_type": "code",
   "execution_count": null,
   "metadata": {},
   "outputs": [
    {
     "data": {
      "image/png": "[encoded data removed]",
      "text/plain": [
       "<Figure size 1400x800 with 4 Axes>"
      ]
     },
     "metadata": {},
     "output_type": "display_data"
    },
    {
     "name": "stderr",
     "output_type": "stream",
     "text": [
      "Evaluating:  79%|███████▊  | 161/205 [00:09<00:02, 17.35it/s, loss=0.0288]             "
     ]
    }
   ],
   "source": [
    "# ---------------------------\n",
    "# 🔧 設定裝置\n",
    "# ---------------------------\n",
    "device = torch.device(\"mps\" if torch.backends.mps.is_available() else \"cpu\")\n",
    "print(f\"✅ Using device: {device}\")\n",
    "\n",
    "# ---------------------------\n",
    "# 初始化模型 & 優化器\n",
    "# ---------------------------\n",
    "model = model.to(device)\n",
    "optimizer = torch.optim.Adam(model.parameters(), lr=1e-2)\n",
    "loss_fn = nn.MSELoss()\n",
    "# loss_fn = spearman_loss\n",
    "#LOSS_TYPE = \"weighted_mse\"  # 或 \"mse\", \"mae\", \"spearman\"\n",
    "\n",
    "\n",
    "#loss_fn = get_loss_fn(loss_type=LOSS_TYPE, cell_weights=cell_weights)\n",
    "\n",
    "scheduler = ReduceLROnPlateau(optimizer, mode='min', factor=0.1, patience=5, verbose=True)\n",
    "early_stopper = EarlyStopping(patience=10)\n",
    "\n",
    "# ---------------------------\n",
    "# 儲存 log 的設定\n",
    "# ---------------------------\n",
    "log_path = os.path.join(save_folder, \"training_log.csv\")\n",
    "log_file = open(log_path, mode=\"w\", newline=\"\")\n",
    "csv_writer = csv.writer(log_file)\n",
    "csv_writer.writerow([\"Epoch\", \"Train Loss\", \"Val Loss\", \"Val Spearman\", \"Learning Rate\"])\n",
    "\n",
    "# ---------------------------\n",
    "# 用來畫圖的變數\n",
    "# ---------------------------\n",
    "train_losses = []\n",
    "val_losses = []\n",
    "train_spearmanes = []\n",
    "val_spearmanes = []\n",
    "\n",
    "# ---------------------------\n",
    "# 指定最佳模型儲存路徑\n",
    "# ---------------------------\n",
    "best_model_path = os.path.join(save_folder, \"best_model.pt\")\n",
    "loss_plot_path = os.path.join(save_folder, \"loss_curve.png\")\n",
    "\n",
    "# ---------------------------\n",
    "# 開始訓練\n",
    "# ---------------------------\n",
    "num_epochs = 500\n",
    "best_val_loss = float('inf')\n",
    "fig, axes = plt.subplots(2, 2, figsize=(14, 8))\n",
    "display(fig)  # 初始顯示圖形\n",
    "\n",
    "for epoch in range(num_epochs):\n",
    "    train_loss, train_spearman = train_one_epoch(model, train_loader, optimizer, loss_fn, device)\n",
    "    val_loss, val_spearman, mse_per_cell, spearman_per_cell = evaluate(model, val_loader, loss_fn, device)\n",
    "    \n",
    "    axes[0][0].clear()\n",
    "    axes[0][1].clear()\n",
    "    axes[1][0].clear()\n",
    "    axes[1][1].clear()\n",
    "    # 儲存最佳模型\n",
    "    if val_loss < best_val_loss:\n",
    "        best_val_loss = val_loss\n",
    "        torch.save(model.state_dict(), best_model_path)\n",
    "        print(\"✅ Saved best model!\")\n",
    "\n",
    "    # 調整學習率\n",
    "    scheduler.step(val_loss)\n",
    "\n",
    "    # 寫入 CSV log\n",
    "    lr = optimizer.param_groups[0]['lr']\n",
    "    csv_writer.writerow([epoch + 1, train_loss, val_loss, val_spearman, lr])\n",
    "\n",
    "    # 印出 Epoch 結果\n",
    "    print(f\"Epoch {epoch + 1}/{num_epochs} | loss: {train_loss:.4f} | val_loss: {val_loss:.4f} | ρ: {val_spearman:.4f} | lr: {lr:.2e}\")\n",
    "\n",
    "    # 更新 log 列表並畫圖\n",
    "    train_losses.append(train_loss)\n",
    "    val_losses.append(val_loss)\n",
    "    train_spearmanes.append(train_spearman)\n",
    "    val_spearmanes.append(val_spearman)\n",
    "    \n",
    "\n",
    "\n",
    "    # plot loss\n",
    "    plot_losses(train_losses, val_losses, ax=axes[0][0], title=\"MSE Loss\")\n",
    "    plot_losses(train_spearmanes, val_spearmanes, ax=axes[0][1], title=\"Spearman Loss\")\n",
    "\n",
    "    cell_names = [f\"C{i+1}\" for i in range(35)]\n",
    "    # plot per-cell stats\n",
    "    plot_per_cell_metrics(mse_per_cell, spearman_per_cell,cell_names,\n",
    "                        ax_mse=axes[1][0], ax_spearman=axes[1][1])\n",
    "    \n",
    "\n",
    "    plt.tight_layout()\n",
    "    plt.show()\n",
    "    clear_output(wait=True)  # 清除之前的輸出\n",
    "    display(fig)\n",
    "    plt.pause(0.1)  # 暫停以便更新畫面\n",
    "\n",
    "    # Early stopping\n",
    "    early_stopper(val_loss)\n",
    "    if early_stopper.early_stop:\n",
    "        print(\"⛔ Early stopping triggered.\")\n",
    "        break\n",
    "\n",
    "# 關閉 CSV log 檔案\n",
    "log_file.close()\n",
    "\n",
    "# 儲存最終圖形\n",
    "fig.savefig(loss_plot_path)\n",
    "plt.close(fig)\n",
    "print(f\"訓練結束，loss 曲線圖已儲存至 {loss_plot_path}\")\n"
   ]
  },
  {
   "cell_type": "markdown",
   "metadata": {},
   "source": [
    "# Predict"
   ]
  },
  {
   "cell_type": "code",
   "execution_count": 23,
   "metadata": {},
   "outputs": [
    {
     "name": "stdout",
     "output_type": "stream",
     "text": [
      "✅ Using device: mps\n"
     ]
    },
    {
     "name": "stderr",
     "output_type": "stream",
     "text": [
      "/var/folders/7g/j5s0yzcj34l3v043s7znkplc0000gn/T/ipykernel_90212/2031120942.py:13: FutureWarning: You are using `torch.load` with `weights_only=False` (the current default value), which uses the default pickle module implicitly. It is possible to construct malicious pickle data which will execute arbitrary code during unpickling (See https://github.com/pytorch/pytorch/blob/main/SECURITY.md#untrusted-models for more details). In a future release, the default value for `weights_only` will be flipped to `True`. This limits the functions that could be executed during unpickling. Arbitrary objects will no longer be allowed to be loaded via this mode unless they are explicitly allowlisted by the user via `torch.serialization.add_safe_globals`. We recommend you start setting `weights_only=True` for any use case where you don't have full control of the loaded file. Please open an issue on GitHub for any issues related to this experimental feature.\n",
      "  model.load_state_dict(torch.load(best_model_path))\n"
     ]
    },
    {
     "data": {
      "text/plain": [
       "VisionWithCoord_MTL(\n",
       "  (encoder): SimpleCNNEncoder(\n",
       "    (cnn): Sequential(\n",
       "      (0): Conv2d(4, 16, kernel_size=(3, 3), stride=(1, 1), padding=(1, 1))\n",
       "      (1): BatchNorm2d(16, eps=1e-05, momentum=0.1, affine=True, track_running_stats=True)\n",
       "      (2): ReLU()\n",
       "      (3): MaxPool2d(kernel_size=2, stride=2, padding=0, dilation=1, ceil_mode=False)\n",
       "      (4): Conv2d(16, 32, kernel_size=(3, 3), stride=(1, 1), padding=(1, 1))\n",
       "      (5): BatchNorm2d(32, eps=1e-05, momentum=0.1, affine=True, track_running_stats=True)\n",
       "      (6): ReLU()\n",
       "      (7): SEBlock(\n",
       "        (pool): AdaptiveAvgPool2d(output_size=1)\n",
       "        (fc): Sequential(\n",
       "          (0): Linear(in_features=32, out_features=2, bias=True)\n",
       "          (1): ReLU()\n",
       "          (2): Linear(in_features=2, out_features=32, bias=True)\n",
       "          (3): Sigmoid()\n",
       "        )\n",
       "      )\n",
       "      (8): SpatialAttention(\n",
       "        (conv): Conv2d(1, 1, kernel_size=(7, 7), stride=(1, 1), padding=(3, 3))\n",
       "        (sigmoid): Sigmoid()\n",
       "      )\n",
       "      (9): MaxPool2d(kernel_size=2, stride=2, padding=0, dilation=1, ceil_mode=False)\n",
       "      (10): Conv2d(32, 64, kernel_size=(3, 3), stride=(1, 1), padding=(1, 1))\n",
       "      (11): BatchNorm2d(64, eps=1e-05, momentum=0.1, affine=True, track_running_stats=True)\n",
       "      (12): ReLU()\n",
       "      (13): SEBlock(\n",
       "        (pool): AdaptiveAvgPool2d(output_size=1)\n",
       "        (fc): Sequential(\n",
       "          (0): Linear(in_features=64, out_features=4, bias=True)\n",
       "          (1): ReLU()\n",
       "          (2): Linear(in_features=4, out_features=64, bias=True)\n",
       "          (3): Sigmoid()\n",
       "        )\n",
       "      )\n",
       "      (14): SpatialAttention(\n",
       "        (conv): Conv2d(1, 1, kernel_size=(7, 7), stride=(1, 1), padding=(3, 3))\n",
       "        (sigmoid): Sigmoid()\n",
       "      )\n",
       "      (15): AdaptiveAvgPool2d(output_size=(1, 1))\n",
       "    )\n",
       "    (flatten): Flatten(start_dim=1, end_dim=-1)\n",
       "    (linear): Linear(in_features=64, out_features=64, bias=True)\n",
       "  )\n",
       "  (decoder): MultiTaskDecoder(\n",
       "    (shared): Sequential(\n",
       "      (0): Linear(in_features=66, out_features=128, bias=True)\n",
       "      (1): ReLU()\n",
       "      (2): Linear(in_features=128, out_features=64, bias=True)\n",
       "      (3): ReLU()\n",
       "    )\n",
       "    (heads): ModuleList(\n",
       "      (0-34): 35 x Linear(in_features=64, out_features=1, bias=True)\n",
       "    )\n",
       "  )\n",
       ")"
      ]
     },
     "execution_count": 23,
     "metadata": {},
     "output_type": "execute_result"
    }
   ],
   "source": [
    "# ===== 需要的 Libraries =====\n",
    "import torch\n",
    "import pandas as pd\n",
    "import numpy as np\n",
    "from tqdm import tqdm\n",
    "from torch.utils.data import DataLoader\n",
    "import csv\n",
    "\n",
    "\n",
    "device = torch.device(\"mps\" if torch.backends.mps.is_available() else \"cpu\")\n",
    "print(f\"✅ Using device: {device}\")\n",
    "\n",
    "model.load_state_dict(torch.load(best_model_path))\n",
    "model.eval()\n"
   ]
  },
  {
   "cell_type": "code",
   "execution_count": 24,
   "metadata": {},
   "outputs": [
    {
     "name": "stderr",
     "output_type": "stream",
     "text": [
      "/var/folders/7g/j5s0yzcj34l3v043s7znkplc0000gn/T/ipykernel_90212/3359058249.py:12: FutureWarning: You are using `torch.load` with `weights_only=False` (the current default value), which uses the default pickle module implicitly. It is possible to construct malicious pickle data which will execute arbitrary code during unpickling (See https://github.com/pytorch/pytorch/blob/main/SECURITY.md#untrusted-models for more details). In a future release, the default value for `weights_only` will be flipped to `True`. This limits the functions that could be executed during unpickling. Arbitrary objects will no longer be allowed to be loaded via this mode unless they are explicitly allowlisted by the user via `torch.serialization.add_safe_globals`. We recommend you start setting `weights_only=True` for any use case where you don't have full control of the loaded file. Please open an issue on GitHub for any issues related to this experimental feature.\n",
      "  test_data = torch.load(\"./dataset/final_data/test_dataset.pt\")\n"
     ]
    },
    {
     "name": "stdout",
     "output_type": "stream",
     "text": [
      "Model forward signature: (tile, coords)\n"
     ]
    }
   ],
   "source": [
    "import torch\n",
    "from torch.utils.data import Dataset\n",
    "import inspect\n",
    "from python_scripts.import_data import importDataset, preprocess_data\n",
    "from python_scripts.operate_model import get_model_inputs\n",
    "from torchvision import transforms\n",
    "from torch.utils.data import DataLoader\n",
    "import numpy as np\n",
    "from sklearn.preprocessing import StandardScaler, MinMaxScaler\n",
    "# 正確方式\n",
    "\n",
    "test_data = torch.load(\"./dataset/final_data/test_dataset.pt\")\n",
    "\n",
    "raw_coords = []\n",
    "for _meta in test_data['coords']:\n",
    "    if _meta is not None:\n",
    "        x, y = _meta\n",
    "    else:\n",
    "        x, y = 0, 0\n",
    "    raw_coords.append([x, y])\n",
    "\n",
    "raw_coords = np.array(raw_coords)\n",
    "\n",
    "coord_scaler = StandardScaler()\n",
    "normalized_coords = coord_scaler.fit_transform(raw_coords)\n",
    "\n",
    "test_dataset = {\n",
    "        'tile': torch.stack([torch.tensor(img).permute(2, 0, 1) for img in test_data['M_tiles']]),\n",
    "        #'subtiles': test_data['subtiles'],\n",
    "        #'neighbor_tiles': test_data['neighbor_tiles'],\n",
    "        'coords': normalized_coords,\n",
    "        'label': np.zeros((len(test_data['M_tiles']), 35))\n",
    "    }\n",
    "my_transform = transforms.Compose([\n",
    "        transforms.ToTensor(),\n",
    "        transforms.Normalize(mean=[0.5]*3, std=[0.5]*3)\n",
    "    ])\n",
    "\n",
    "#image_keys = ['tile']\n",
    "\n",
    "\n",
    "\n",
    "#processed_data = preprocess_data(test_dataset, image_keys, my_transform)\n",
    "\n",
    "test_dataset = importDataset(\n",
    "        data_dict=test_dataset,\n",
    "        model=model,\n",
    "        image_keys=image_keys,\n",
    "        transform=lambda x: x,  # identity transform\n",
    "        print_sig=True\n",
    "    )\n"
   ]
  },
  {
   "cell_type": "code",
   "execution_count": 25,
   "metadata": {},
   "outputs": [
    {
     "name": "stdout",
     "output_type": "stream",
     "text": [
      "🔍 Checking dataset sample: 1000\n",
      "📏 tile shape: torch.Size([4, 112, 112]) | dtype: torch.float32 | min: 0.000, max: 1.000, mean: 0.779, std: 0.203\n",
      "📏 coords shape: torch.Size([2]) | dtype: torch.float32 | min: -0.393, max: 0.416, mean: 0.012, std: 0.572\n",
      "--- coords head (前 10 個元素):\n",
      "tensor([-0.3929,  0.4160])\n",
      "📏 label shape: torch.Size([35]) | dtype: torch.float32 | min: 0.000, max: 0.000, mean: 0.000, std: 0.000\n",
      "--- label head (前 10 個元素):\n",
      "tensor([0., 0., 0., 0., 0., 0., 0., 0., 0., 0.])\n",
      "✅ All checks passed!\n"
     ]
    }
   ],
   "source": [
    "test_dataset.check_item(1000, 10)\n"
   ]
  },
  {
   "cell_type": "code",
   "execution_count": 26,
   "metadata": {},
   "outputs": [],
   "source": [
    "test_loader = DataLoader(test_dataset, batch_size=32, shuffle=False)"
   ]
  },
  {
   "cell_type": "code",
   "execution_count": 27,
   "metadata": {},
   "outputs": [
    {
     "data": {
      "text/plain": [
       "array([[-0.60558605,  0.38773936, -0.64302844, ...,  0.3351068 ,\n",
       "        -0.30470148, -0.53320545],\n",
       "       [-0.23810063, -0.34456247, -0.28505218, ..., -0.36208802,\n",
       "        -0.28791687, -0.53171456],\n",
       "       [ 0.08916403,  0.5131233 ,  0.1395737 , ...,  0.25982928,\n",
       "         0.65987396,  0.52260053],\n",
       "       ...,\n",
       "       [ 0.03503682, -0.6641555 , -0.0189724 , ..., -0.35903192,\n",
       "        -0.57846797, -0.75140715],\n",
       "       [-0.20536195, -0.43315536, -0.2423997 , ..., -0.2871616 ,\n",
       "        -0.38078952, -0.517373  ],\n",
       "       [-0.7072495 ,  0.9769431 , -0.6489381 , ...,  1.0295992 ,\n",
       "         0.34341004,  0.3514545 ]], dtype=float32)"
      ]
     },
     "execution_count": 27,
     "metadata": {},
     "output_type": "execute_result"
    }
   ],
   "source": [
    "test_preds = predict(model, test_loader, device)\n",
    "test_preds"
   ]
  },
  {
   "cell_type": "code",
   "execution_count": null,
   "metadata": {},
   "outputs": [
    {
     "name": "stdout",
     "output_type": "stream",
     "text": [
      "🔁 測試 revert_log2_predictions\n",
      "[[ 1.01396717e+00 -8.07002121e-03  1.80511435e+00  1.13151159e-01\n",
      "   2.00707840e+00  7.59623606e-02  6.96093327e-02  7.63244836e-03\n",
      "  -4.43450703e-02  4.99186394e-04  1.08874982e-02 -2.43959104e-02\n",
      "   4.05517143e-03  2.29893147e-02  6.26831059e-02  8.12215671e-02\n",
      "   2.64344670e-01  2.31829931e-02  1.36808254e-02 -1.33865438e-03\n",
      "  -2.55863969e-02  1.04127442e-02  1.75559047e-03 -3.42817691e-02\n",
      "   8.95906936e-02  2.71020152e-03  7.19174871e-02  1.14335168e-02\n",
      "  -2.35451263e-02  5.75979741e-03  1.10113500e-01  8.37440865e-02\n",
      "   1.95191196e-02  1.52221790e-02 -7.13266282e-02]\n",
      " [ 3.28478151e+00  3.26228103e-01 -1.51059413e-01  2.10342036e-01\n",
      "  -3.70963169e-01  9.46231454e-02  1.08288662e-02  4.10010213e-03\n",
      "   3.99134882e-01  1.60557299e-02 -6.11376033e-03  1.01965609e-03\n",
      "   7.99558069e-03  1.75983651e-02  1.73605903e-01  1.38104129e+00\n",
      "   1.07006572e-02 -5.08118852e-02  1.18068944e-03  6.97391458e-02\n",
      "  -2.20179089e-03  2.30087185e-02 -5.02672957e-03  1.61468807e-01\n",
      "   4.75605425e-02  9.87347349e-03 -3.15146508e-02 -6.39880534e-03\n",
      "   7.97088743e-03  2.97967609e-03  1.01989491e-01  5.37938927e-02\n",
      "   5.04197225e-03 -2.38961325e-03  7.05009362e-02]]\n",
      "🔁 測試 revert_boxcox_predictions\n",
      "⚠️ C1: 3 NaNs filled with median\n",
      "⚠️ C3: 1 NaNs filled with median\n",
      "⚠️ C5: 1 NaNs filled with median\n",
      "⚠️ C15: 1 NaNs filled with median\n",
      "⚠️ C18: 1 NaNs filled with median\n",
      "⚠️ C21: 1 NaNs filled with median\n",
      "[[5.69941215e-01 1.44401062e-02 2.16613543e-01 6.92434560e-02\n",
      "  1.52222846e+00 7.35393786e-02 5.17280355e-02 7.45352587e-03\n",
      "  1.00000241e-06 5.03471033e-04 1.07043069e-02 1.00001083e-06\n",
      "  3.68039741e-03 1.77321683e-02 5.42891212e-02 9.05469999e-02\n",
      "  2.29843179e-01 2.03432510e-02 1.03645722e-02 5.64149836e-03\n",
      "  1.00000957e-06 7.89466761e-03 1.77324432e-02 1.00000313e-06\n",
      "  1.04105599e-01 2.45926188e-03 5.81362032e-02 1.06301747e-02\n",
      "  1.00000794e-06 5.75564067e-03 8.02693318e-02 6.09578730e-02\n",
      "  1.91569223e-02 1.16400356e-02 1.00000711e-06]\n",
      " [8.43054539e-02 5.75388366e-01 1.00000164e-06 1.33292774e-01\n",
      "  1.00000117e-06 9.89988965e-02 1.17600325e-02 3.70104409e-03\n",
      "  3.94138868e-01 1.56028871e-02 1.00000730e-06 2.48993407e-03\n",
      "  8.29558963e-03 1.37160833e-02 2.09324024e-01 9.28974183e-01\n",
      "  1.47278636e-02 1.00000466e-06 2.89474341e-03 5.27115733e-02\n",
      "  1.00000957e-06 1.92639808e-02 1.44715060e-02 9.72692180e-02\n",
      "  4.52473814e-02 9.35846123e-03 1.00000310e-06 1.00001765e-06\n",
      "  6.97255594e-03 2.91593392e-03 7.42650631e-02 4.12930919e-02\n",
      "  4.26394940e-03 1.00001483e-06 5.04165762e-02]]\n"
     ]
    }
   ],
   "source": [
    "from python_scripts.revert_utils import (\n",
    "    load_json_params,\n",
    "    revert_log2_predictions,\n",
    "    revert_boxcox_predictions\n",
    ")\n",
    "\n",
    "# 還原 Box-Cox\n",
    "params = load_json_params(\"./dataset/boxcox_zscore_params.json\")\n",
    "restored = revert_boxcox_predictions(test_preds, params)\n"
   ]
  },
  {
   "cell_type": "code",
   "execution_count": 28,
   "metadata": {},
   "outputs": [
    {
     "data": {
      "text/plain": [
       "array([[0.05475008, 0.1468246 , 0.03411555, ..., 0.01587868, 0.00834095,\n",
       "        0.02138138],\n",
       "       [0.2711383 , 0.07152236, 0.17776215, ..., 0.00492251, 0.00867808,\n",
       "        0.0214659 ],\n",
       "       [0.500949  , 0.16023839, 0.37424266, ..., 0.01469004, 0.02789426,\n",
       "        0.08301198],\n",
       "       ...,\n",
       "       [0.4602561 , 0.04022813, 0.29731333, ..., 0.00497031, 0.00285947,\n",
       "        0.0090884 ],\n",
       "       [0.2924472 , 0.06275427, 0.19615686, ..., 0.00609422, 0.00681448,\n",
       "        0.02227914],\n",
       "       [0.00168061, 0.21123683, 0.03189743, ..., 0.02691126, 0.02143764,\n",
       "        0.07277477]], dtype=float32)"
      ]
     },
     "execution_count": 28,
     "metadata": {},
     "output_type": "execute_result"
    }
   ],
   "source": [
    "from python_scripts.revert_utils import (\n",
    "    load_json_params,\n",
    "    revert_log2_predictions,\n",
    ")\n",
    "params = load_json_params(json_path=\"./dataset/zscore_params.json\")\n",
    "\n",
    "# 或還原 log2\n",
    "params = load_json_params(\"./dataset/zscore_params.json\")\n",
    "restored = revert_log2_predictions(test_preds, params, add_constant=1)\n",
    "\n",
    "restored"
   ]
  },
  {
   "cell_type": "code",
   "execution_count": 29,
   "metadata": {},
   "outputs": [
    {
     "name": "stdout",
     "output_type": "stream",
     "text": [
      "✅ Saved submission.csv in output_folder/with_all_preprocess_log2/SE+SA+MTD+weighted/submission.csv\n"
     ]
    }
   ],
   "source": [
    "import h5py\n",
    "\n",
    "# ==== 讀取 test spot index 用於對應 ID ====\n",
    "with h5py.File(\"./dataset/elucidata_ai_challenge_data.h5\", \"r\") as f:\n",
    "    test_spots = f[\"spots/Test\"]\n",
    "    test_spot_table = pd.DataFrame(np.array(test_spots['S_7']))  # Example: S_7\n",
    "\n",
    "submission_path = os.path.join(save_folder, \"submission.csv\")\n",
    "\n",
    "ensemble_df = pd.DataFrame(restored, columns=[f\"C{i+1}\" for i in range(restored.shape[1])])\n",
    "ensemble_df.insert(0, 'ID', test_spot_table.index)\n",
    "ensemble_df.to_csv(submission_path, index=False)\n",
    "print(f\"✅ Saved submission.csv in {submission_path}\")\n"
   ]
  }
 ],
 "metadata": {
  "kernelspec": {
   "display_name": "spatialhackathon",
   "language": "python",
   "name": "python3"
  },
  "language_info": {
   "codemirror_mode": {
    "name": "ipython",
    "version": 3
   },
   "file_extension": ".py",
   "mimetype": "text/x-python",
   "name": "python",
   "nbconvert_exporter": "python",
   "pygments_lexer": "ipython3",
   "version": "3.9.21"
  }
 },
 "nbformat": 4,
 "nbformat_minor": 2
}
